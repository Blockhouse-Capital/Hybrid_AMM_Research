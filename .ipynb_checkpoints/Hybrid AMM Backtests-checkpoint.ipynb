{
 "cells": [
  {
   "cell_type": "markdown",
   "id": "4b4e9623-e7d9-4a67-bb8f-03486b2884c9",
   "metadata": {},
   "source": [
    "# Imports"
   ]
  },
  {
   "cell_type": "code",
   "execution_count": 11,
   "id": "6d1a1996",
   "metadata": {},
   "outputs": [
    {
     "name": "stdout",
     "output_type": "stream",
     "text": [
      "Import Complete\n"
     ]
    }
   ],
   "source": [
    "# From Imports\n",
    "from math import log, sqrt, pi, exp\n",
    "from scipy.stats import norm\n",
    "from datetime import datetime, date\n",
    "from pandas import DataFrame\n",
    "from datetime import datetime\n",
    "from scipy.optimize import minimize\n",
    "from arch import arch_model\n",
    "from sklearn.linear_model import LinearRegression\n",
    "\n",
    "# Alias Imports\n",
    "import numpy_financial as npf\n",
    "import numpy as np\n",
    "import pandas as pd\n",
    "import matplotlib.pyplot as plt \n",
    "import seaborn as sns\n",
    "\n",
    "# Imports\n",
    "import math\n",
    "import arch\n",
    "import openpyxl \n",
    "import pprint\n",
    "\n",
    "print(\"Import Complete\")"
   ]
  },
  {
   "cell_type": "markdown",
   "id": "3acc6470",
   "metadata": {},
   "source": [
    "# Importing Bond Trading Data"
   ]
  },
  {
   "cell_type": "code",
   "execution_count": 12,
   "id": "1c6aabec-2c22-460b-bdaa-1936f624d0cf",
   "metadata": {},
   "outputs": [
    {
     "name": "stdout",
     "output_type": "stream",
     "text": [
      "Excel Data Imported\n"
     ]
    }
   ],
   "source": [
    "# Importing Excel data of 2Y and 10Y Tbills\n",
    "tbill2Y = pd.read_excel(\"Treasury_Data_V1.xlsx\", \"T 4.625 02 28 25 Govt TRADES\")\n",
    "tbill10Y = pd.read_excel(\"Treasury_Data_V1.xlsx\", \"T 3.375 05 15 33 Govt TRADES\")\n",
    "#note, volume is traded in increments of $1000 USD at STGT Exchange\n",
    "#note, need to clean 10Y data, bids / asks don't line up\n",
    "\n",
    "# Making Trade Time, Trade Volume, and Ask Time into lists for 2Y Bond Data\n",
    "dates2Y = list(tbill2Y[\"Trade Time\"])\n",
    "volumes2Y = list(tbill2Y[\"Trade Volume\"])\n",
    "asks2Y = list(tbill2Y[\"Ask Time\"]) # Currently Not Used\n",
    "\n",
    "print(\"Excel Data Imported\")"
   ]
  },
  {
   "cell_type": "markdown",
   "id": "c6f38ec4-1ebf-4df6-8093-32a3d43a799d",
   "metadata": {},
   "source": [
    "# Cleaning Bond Trading Data"
   ]
  },
  {
   "cell_type": "code",
   "execution_count": 13,
   "id": "c7c224f0",
   "metadata": {},
   "outputs": [
    {
     "name": "stdout",
     "output_type": "stream",
     "text": [
      "Data cleaned\n"
     ]
    }
   ],
   "source": [
    "# Cleaning Trade Time data\n",
    "clean_dates2Y = []\n",
    "\n",
    "# Going through the range and converting dates to Numpy datetime64s\n",
    "for i in range(len(dates2Y)):\n",
    "    date = np.datetime64(str(dates2Y[i].date()))\n",
    "\n",
    "    # Removing all NaT values from the list\n",
    "    if not np.isnat(date):\n",
    "\n",
    "        # Adding all dates to our clean_dates2Y list\n",
    "        clean_dates2Y.append(date)\n",
    "\n",
    "    # If no date given, we make datetime max value for easy spotting\n",
    "    else:\n",
    "        clean_dates2Y.append(np.datetime64(datetime.max))\n",
    "\n",
    "# Cleaning Ask Time data\n",
    "clean_asks2Y = []\n",
    "\n",
    "# Going through the range and converting dates to Numpy datetime64s\n",
    "for i in range(len(asks2Y)):\n",
    "    date = np.datetime64(str(asks2Y[i].date()))\n",
    "\n",
    "    # Removing all NaT values from the list\n",
    "    if not np.isnat(date):\n",
    "\n",
    "        # Adding all dates to our clean_asks2Y list\n",
    "        clean_asks2Y.append(date)\n",
    "\n",
    "    # If no date given, we make datetime max value for easy spotting\n",
    "    else:\n",
    "        clean_dates2Y.append(np.datetime64(datetime.min))\n",
    "\n",
    "print(\"Data cleaned\")"
   ]
  },
  {
   "cell_type": "markdown",
   "id": "baa3388c-b01f-4057-8372-68af3ee72d88",
   "metadata": {},
   "source": [
    "# Calculating Average Daily Volume"
   ]
  },
  {
   "cell_type": "code",
   "execution_count": 14,
   "id": "7a413002-4525-488f-b9d9-f3984801d879",
   "metadata": {},
   "outputs": [
    {
     "name": "stdout",
     "output_type": "stream",
     "text": [
      "Daily Volumes\n"
     ]
    }
   ],
   "source": [
    "# Adding new Date object column to data\n",
    "tbill2Y['Trade Time Date'] = clean_dates2Y\n",
    "tbill2Y['Ask Time Date'] = clean_asks2Y\n",
    "\n",
    "# Calculating the total volume on each specific day     \n",
    "day_volumes = tbill2Y.groupby(['Trade Time Date'])['Trade Volume'].sum()\n",
    "\n",
    "# Getting all the unique dates from Trade Time Date\n",
    "unique_dates = tbill2Y['Trade Time Date'].unique()\n",
    "\n",
    "# Creating Average Hourly Trading Volumes from Daily Volumes in Dictionary\n",
    "average_volume_daily = {} #key is date, value is total_volume\n",
    "\n",
    "# Creating dictionary around unique dates, and summed daily volumes\n",
    "for day, volume in zip(unique_dates, day_volumes):\n",
    "    \n",
    "    # Calculate the average volume for the date and store it in the dictionary\n",
    "    average_volume_daily[day] = volume / 12.0\n",
    "\n",
    "# Splitting into lists of Dates, Volumes \n",
    "dates = average_volume_daily.keys()\n",
    "hourly_volumes = average_volume_daily.values()\n",
    "\n",
    "# Print Dates, Volumes\n",
    "# print(dates)\n",
    "# print(daily_volumes)\n",
    "\n",
    "# Print the resulting dictionary\n",
    "# pprint.pprint(average_volume_daily)\n",
    "\n",
    "# Formatting Float in Pandas\n",
    "pd.options.display.float_format = '{:.2f}'.format\n",
    "\n",
    "# Print the resulting list\n",
    "daily_volumes = pd.DataFrame()\n",
    "daily_volumes['Trading Day'] = dates\n",
    "daily_volumes['Hourly Volume'] = hourly_volumes\n",
    "\n",
    "print(\"Daily Volumes\")"
   ]
  },
  {
   "cell_type": "markdown",
   "id": "b7168c29",
   "metadata": {},
   "source": [
    "# Simulating Price and Spread Process"
   ]
  },
  {
   "cell_type": "code",
   "execution_count": 15,
   "id": "6568942e",
   "metadata": {},
   "outputs": [],
   "source": [
    "#1) Use Cox-Ingersoll-Ross Model (CIR) model to simulate bond yield process (approximation of price process)\n",
    "#2) Use GARCH model to simulate bid-ask spreads in one step ahead forecasts\n",
    "#3) Z is simulated price, ask is Zu, bid is Zl, utilize to calculate daily portfolio value and loss\n",
    "#4) Calculate compounded interest loss\n",
    "#5) Add final portfolio loss to interest loss, print resuslts of all simulations\n",
    "#OTHER NOTES#\n",
    "#determine what k value we want to keep, assume constant k, $50B issue size"
   ]
  },
  {
   "cell_type": "markdown",
   "id": "6fb5f929-9673-47db-86b0-9281e41d9440",
   "metadata": {},
   "source": [
    "# Calculate instantaneous LP position value as a function of k, Zl (bid), Zu (ask), and Z (price)"
   ]
  },
  {
   "cell_type": "code",
   "execution_count": 16,
   "id": "60f46c9e",
   "metadata": {},
   "outputs": [],
   "source": [
    "def alpha_t(k, Z, Zl, Zu):\n",
    "    xi = np.where(Zl < Z, k * (Z**0.5 - Zl**0.5), 0)\n",
    "    yi = np.where(Z > Zu, k * (Zu**0.5 - Zl**0.5), 0)\n",
    "    return xi + yi * Z"
   ]
  },
  {
   "cell_type": "markdown",
   "id": "a4625fbe-5794-4723-93a7-1ecfb11b5f2f",
   "metadata": {},
   "source": [
    "# Calculating Historical Midpoint between Bid and Ask"
   ]
  },
  {
   "cell_type": "code",
   "execution_count": 17,
   "id": "16a31446",
   "metadata": {},
   "outputs": [
    {
     "name": "stdout",
     "output_type": "stream",
     "text": [
      "Calculated Historical Midpoint and Historical Spreads\n"
     ]
    }
   ],
   "source": [
    "historical_bid_data = tbill2Y[\"Bid\"]\n",
    "historical_ask_data = tbill2Y[\"Ask\"]\n",
    "historical_midpoint = (historical_bid_data + historical_ask_data) / 2\n",
    "historical_spread = abs(historical_bid_data - historical_ask_data)\n",
    "# historical_midpoint\n",
    "\n",
    "print(\"Calculated Historical Midpoint and Historical Spreads\")"
   ]
  },
  {
   "cell_type": "markdown",
   "id": "87ce940f-734b-4067-9389-78241f116246",
   "metadata": {},
   "source": [
    "# Calculating Price to Yield"
   ]
  },
  {
   "cell_type": "code",
   "execution_count": 18,
   "id": "6b4556a4",
   "metadata": {},
   "outputs": [],
   "source": [
    "def price_to_yield(price, face_value, coupon_rate, coupon_frequency, current_date, maturity_date):\n",
    "    time_to_maturity_days = (maturity_date - current_date).days\n",
    "    time_to_maturity_hours = time_to_maturity_days * 24  # Convert to hours\n",
    "    \n",
    "    full_coupon_periods = int(time_to_maturity_hours / (365.0 * 24 / coupon_frequency))\n",
    "    partial_coupon_period_hours = time_to_maturity_hours % (365.0 * 24 / coupon_frequency)\n",
    "    \n",
    "    cash_flows = [(coupon_rate * face_value) / coupon_frequency] * full_coupon_periods\n",
    "    \n",
    "    # Handle the partial coupon period\n",
    "    if partial_coupon_period_hours > 0:\n",
    "        partial_coupon_payment = (coupon_rate * face_value * partial_coupon_period_hours) / (365.0 * 24)\n",
    "        cash_flows.append(partial_coupon_payment)\n",
    "    \n",
    "    cash_flows[-1] += face_value  # Add the face value at maturity\n",
    "    yield_value = np.nan\n",
    "    \n",
    "    try:\n",
    "        yield_value = npf.irr([-price] + cash_flows)\n",
    "    except ValueError:\n",
    "        pass\n",
    "    \n",
    "    return yield_value"
   ]
  },
  {
   "cell_type": "markdown",
   "id": "2a8bf445-754e-425c-ac08-fc8c3e1732b7",
   "metadata": {},
   "source": [
    "# Estimate CIR model parameters using historical yields"
   ]
  },
  {
   "cell_type": "code",
   "execution_count": 19,
   "id": "7f19a2e6",
   "metadata": {},
   "outputs": [
    {
     "name": "stdout",
     "output_type": "stream",
     "text": [
      "[ 0.05        1.05484352 -0.00940215  0.03      ]\n"
     ]
    }
   ],
   "source": [
    "def cir_likelihood(parameters, data):\n",
    "    mu, sigma, kappa, theta = parameters\n",
    "    dt = 1 / (252.0 * 12)  # Hourly data assumed\n",
    "    n = len(data)\n",
    "    log_likelihood = 0.0\n",
    "    \n",
    "    for i in range(1, n):\n",
    "        Zl = data[i - 1]\n",
    "        Z = data[i]\n",
    "        Z_diff = Z - Zl\n",
    "        gamma = np.sqrt(kappa**2 + 2 * sigma**2)\n",
    "        \n",
    "        log_likelihood += (\n",
    "            -(n - 1) * (np.log(2 * gamma) - np.log(sigma))\n",
    "            - (kappa + gamma) * Z_diff\n",
    "            - 2 * np.log((2 * gamma * np.exp(kappa + gamma * dt)) / (2 * gamma + (kappa + gamma) * (np.exp(gamma * dt) - 1)))\n",
    "        )\n",
    "    \n",
    "    return -log_likelihood\n",
    "\n",
    "initial_parameters = [0.05, 0.1, 0.2, 0.03]  # Initial guesses for parameters\n",
    "result = minimize(cir_likelihood, initial_parameters, args=(historical_midpoint,), method='L-BFGS-B')\n",
    "mu, sigma, kappa, theta = result.x\n",
    "print(result.x)"
   ]
  },
  {
   "cell_type": "markdown",
   "id": "9fd77377-6433-473f-bb26-48a119656a40",
   "metadata": {},
   "source": [
    "# Simulate bond yields based on the estimated CIR parameters"
   ]
  },
  {
   "cell_type": "code",
   "execution_count": 29,
   "id": "e34333ff",
   "metadata": {},
   "outputs": [],
   "source": [
    "T = 1  # Time to maturity, years\n",
    "n_simulations = 1000  # Num of sims\n",
    "n_periods = 45  # Num of hourly periods in a year\n",
    "coupon_rate = 0.04625  \n",
    "coupon_frequency = 2  \n",
    "\n",
    "simulated_yields = np.zeros((n_simulations, n_periods + 1)) #init array\n",
    "bond_prices = np.zeros((n_simulations, n_periods + 1)) #init array\n",
    "\n",
    "for i in range(n_simulations):\n",
    "    dt = T / n_periods\n",
    "    current_date = tbill2Y[\"Bid Time\"][0] \n",
    "    maturity_date = current_date + pd.DateOffset(years=T)\n",
    "    bond_price = historical_midpoint.iloc[0]  # Initial bond price at first midpoint value\n",
    "    \n",
    "    for j in range(1, n_periods):\n",
    "        bond_yield = price_to_yield(bond_price, 1000, coupon_rate, coupon_frequency, current_date, maturity_date)\n",
    "        Z_diff = bond_yield - historical_midpoint.iloc[j - 1]\n",
    "        gamma = np.sqrt(kappa**2 + 2 * sigma**2)\n",
    "        bond_yield += kappa * (theta - bond_yield) * dt + sigma * np.sqrt(bond_yield) * np.random.normal(0, np.sqrt(dt))  # CIR process\n",
    "        bond_price = 1000 / ((1 + bond_yield / coupon_frequency) ** (coupon_frequency * (maturity_date - current_date).days / (365 * 24)))  # Convert yield to price\n",
    "        bond_prices[i, j] = bond_price \n",
    "        simulated_yields[i, j] = bond_yield"
   ]
  },
  {
   "cell_type": "markdown",
   "id": "d885891c",
   "metadata": {},
   "source": [
    "# Replacing Spread And Volume Simulation Code"
   ]
  },
  {
   "cell_type": "code",
   "execution_count": 30,
   "id": "9a18ee26",
   "metadata": {},
   "outputs": [
    {
     "name": "stdout",
     "output_type": "stream",
     "text": [
      "  message: CONVERGENCE: REL_REDUCTION_OF_F_<=_FACTR*EPSMCH\n",
      "  success: True\n",
      "   status: 0\n",
      "      fun: -1849.5179356363412\n",
      "        x: [ 1.000e-01 -4.808e-03  1.079e-02]\n",
      "      nit: 8\n",
      "      jac: [ 0.000e+00 -9.254e-03 -1.273e-03]\n",
      "     nfev: 84\n",
      "     njev: 21\n",
      " hess_inv: <3x3 LbfgsInvHessProduct with dtype=float64>\n"
     ]
    }
   ],
   "source": [
    "# Estimating OU (Ornstein–Uhlenbeck) Process Paramters for Spread Simulation\n",
    "\n",
    "# Historical spread data is used from above calculation\n",
    "\n",
    "# Function to calculate the OU likelihood\n",
    "def ou_likelihood(parameters, data):\n",
    "    mean_reversion, vol, initial_spread_min = parameters\n",
    "    dt = 1  # Time step (you can adjust this based on your data frequency)\n",
    "    log_likelihood = 0.0\n",
    "    initial_spread = initial_spread_min\n",
    "    \n",
    "    for i in range(1, len(historical_spread)):\n",
    "        spread_diff = historical_spread[i] - initial_spread\n",
    "        log_likelihood += -0.5 * (spread_diff / vol) ** 2\n",
    "        log_likelihood -= 0.5 * np.log(2 * np.pi * vol ** 2 * dt)\n",
    "        initial_spread += mean_reversion * (initial_spread_min - initial_spread) * dt\n",
    "\n",
    "    return -log_likelihood\n",
    "\n",
    "# Initial parameter guesses\n",
    "intial_mean_reversion = 0.1\n",
    "intial_vol = 0.05\n",
    "intial_min_arg = historical_spread[0]\n",
    "\n",
    "# Packing them into parameter tupe\n",
    "initial_parameters = (intial_mean_reversion, intial_vol, intial_min_arg)\n",
    "\n",
    "# Minimize the negative log-likelihood to estimate OU parameters\n",
    "result = minimize(ou_likelihood, initial_parameters, args=(historical_spread,), method='L-BFGS-B')\n",
    "print(result)\n",
    "\n",
    "# Extract estimated parameters\n",
    "mean_reversion, volatility, initial_spread = result.x"
   ]
  },
  {
   "cell_type": "code",
   "execution_count": 31,
   "id": "d84155fd",
   "metadata": {},
   "outputs": [],
   "source": [
    "#Simulating Spreads with OU Process\n",
    "\n",
    "n_simulations = 1000  # Number of simulations\n",
    "n_periods = len(historical_spread)  # Number of periods to simulate\n",
    "\n",
    "simulated_spreads = np.zeros((n_simulations, n_periods))\n",
    "\n",
    "for i in range(n_simulations):\n",
    "    spread = initial_spread\n",
    "    for j in range(n_periods):\n",
    "        spread += mean_reversion * (initial_spread - spread) * dt + volatility * np.sqrt(dt) * np.random.normal(0, 1)\n",
    "        simulated_spreads[i, j] = spread"
   ]
  },
  {
   "cell_type": "code",
   "execution_count": 52,
   "id": "19c3b4fd",
   "metadata": {},
   "outputs": [
    {
     "name": "stdout",
     "output_type": "stream",
     "text": [
      "[0.01183212 0.01026588 0.01040398 0.01070697 0.01091254 0.01080362\n",
      " 0.00992351 0.01182952 0.00913309 0.01101825 0.01111942 0.00948608\n",
      " 0.01039861 0.01081803 0.0104878  0.01083792 0.00977729 0.01082038\n",
      " 0.01167237 0.01132484 0.01136245 0.01032201 0.01050575 0.01109908\n",
      " 0.01160226 0.01070937 0.01105111 0.01097717 0.00987496 0.00985064\n",
      " 0.01020563 0.01191334 0.0099991  0.01086026 0.01180024 0.01134679\n",
      " 0.01209404 0.01077132 0.01198381 0.01123135 0.01143987 0.00934699\n",
      " 0.00953718 0.0101078  0.01112661 0.01004993 0.01011278 0.0110357\n",
      " 0.00948603 0.01088158 0.01124046 0.01088222 0.01054955 0.01155071\n",
      " 0.01187586 0.01106505 0.01091919 0.01223929 0.01036916 0.00995054\n",
      " 0.01094558 0.01028748 0.01148097 0.01161066 0.00978125 0.01175746\n",
      " 0.01269871 0.00993607 0.01154098 0.00997412 0.01091259 0.01066888\n",
      " 0.0099     0.01036572 0.01031862 0.01125633 0.01078585 0.01150769\n",
      " 0.00996301 0.01062256 0.01119831 0.01058848 0.01051952 0.01118734\n",
      " 0.00977206 0.01041995 0.01034919 0.00918116 0.01156053 0.01103611\n",
      " 0.01142903 0.01030041 0.01093627 0.01033384 0.01097561 0.01002519\n",
      " 0.01185211 0.01075884 0.01078995 0.01096936 0.01157376 0.01090635\n",
      " 0.0116622  0.0106694  0.01080322 0.01055559 0.01066309 0.01127204\n",
      " 0.0103446  0.01032495 0.01118982 0.01102017 0.00984391 0.01141534\n",
      " 0.01194776 0.01014822 0.00939118 0.01116248 0.01231338 0.01085443\n",
      " 0.01142717 0.01090631 0.00993819 0.00990713 0.01158353 0.01062012\n",
      " 0.01319644 0.01066883 0.01113602 0.00898652 0.01040198 0.01051285\n",
      " 0.01009873 0.01106084 0.00868151 0.0105874  0.01121375 0.0107501\n",
      " 0.01093447 0.01093348 0.01214591 0.01065393 0.01081587 0.00943234\n",
      " 0.01113834 0.01207379 0.01004693 0.01070273 0.01081862 0.01146928\n",
      " 0.01058474 0.01141525 0.00997529 0.01129288 0.0110756  0.0108673\n",
      " 0.01195665 0.00900638 0.01111937 0.01170836 0.01125593 0.01044399\n",
      " 0.00904136 0.01170186 0.00969272 0.01052807 0.00994371 0.0095241\n",
      " 0.01039313 0.0110855  0.01129354 0.01011984 0.0110107  0.01067116\n",
      " 0.01084279 0.00980279 0.01148237 0.01009657 0.00910338 0.0114402\n",
      " 0.00894388 0.01136964 0.01010488 0.01044642 0.01044314 0.01187063\n",
      " 0.01149194 0.01243431 0.01068025 0.00974177 0.00979668 0.01104256\n",
      " 0.01129822 0.01150456 0.01169177 0.01124115 0.01110872 0.00931958\n",
      " 0.01051523 0.01082666 0.01093838 0.01164124 0.01118915 0.0121392\n",
      " 0.00958038 0.01113848 0.0104206  0.01115469 0.01064131 0.01017844\n",
      " 0.0105684  0.01154759 0.00982214 0.01154341 0.01195313 0.01197955\n",
      " 0.00999289 0.0103359  0.0107882  0.01137631 0.01149749 0.01058966\n",
      " 0.01094038 0.01028187 0.0098643  0.01101779 0.01098209 0.01050416\n",
      " 0.01036874 0.01232989 0.01033135 0.01101066 0.01105913 0.01108097\n",
      " 0.01081974 0.0099291  0.01002276 0.01036936 0.01179953 0.00955185\n",
      " 0.01005562 0.01034948 0.01191988 0.01179605 0.00971584 0.01117442\n",
      " 0.01108735 0.01104072 0.01103639 0.01194083 0.01184593 0.01067417\n",
      " 0.01212172 0.01011898 0.0109872  0.01137925 0.01007093 0.01140976\n",
      " 0.01040562 0.01206562 0.01118072 0.01080235 0.01049485 0.01011358\n",
      " 0.01119826 0.01113123 0.01139285 0.01142319 0.01019827 0.01146697\n",
      " 0.01164937 0.00994639 0.01107452 0.00922339 0.0116742  0.01011185\n",
      " 0.01113649 0.01059465 0.01101986 0.01071862 0.01131407 0.00984092\n",
      " 0.01232148 0.01049577 0.01172823 0.01185402 0.01021851 0.01109072\n",
      " 0.00974595 0.01048745 0.01200153 0.01121441 0.01156385 0.01082076\n",
      " 0.01218421 0.01083439 0.0106846  0.01087361 0.01118059 0.00974711\n",
      " 0.01097533 0.01083408 0.01131799 0.00996557 0.01063381 0.01111008\n",
      " 0.01039132 0.01180376 0.01234806 0.01154827 0.01164686 0.0101965\n",
      " 0.01170379 0.01101267 0.01012521 0.01128259 0.0106946  0.01085483\n",
      " 0.01038968 0.01012425 0.00987812 0.01013742 0.01117186 0.01127556\n",
      " 0.0108671  0.00999914 0.01168655 0.01216952 0.00943586 0.01124511\n",
      " 0.01203943 0.01242485 0.01161581 0.01042938 0.01230357 0.01100684\n",
      " 0.01103522 0.01044861 0.0109568  0.01128426 0.01153552 0.01027522\n",
      " 0.01093435 0.01168711 0.01153783 0.01130851 0.00933104 0.01168444\n",
      " 0.01075251 0.01118069 0.01073884 0.0102137  0.01131362 0.01046454\n",
      " 0.0107762  0.01026531 0.01016971 0.01035619 0.00955753 0.0113974\n",
      " 0.01135988 0.01104407 0.01058216 0.01075981 0.01049917 0.01060678\n",
      " 0.01129742 0.01150163 0.01226755 0.01154199 0.01089228 0.01121909\n",
      " 0.00994565 0.01160207 0.01047597 0.01127338 0.01054941 0.01182116\n",
      " 0.01081813 0.01047488 0.01063585 0.0108901  0.01120429 0.01174763\n",
      " 0.00954658 0.01045417 0.01117722 0.01139247 0.01173483 0.01039672\n",
      " 0.01096882 0.01132363 0.01014249 0.01098317 0.01053411 0.01055197\n",
      " 0.01089226 0.01042819 0.01007968 0.01048541 0.01223561 0.01095491\n",
      " 0.01304654 0.01007073 0.01163858 0.01075314 0.01004521 0.00995773\n",
      " 0.01082857 0.01131777 0.01064805 0.01141886 0.01043244 0.0110936\n",
      " 0.01175056 0.01174266 0.01005663 0.01088838 0.01030567 0.01032506\n",
      " 0.01130454 0.01067539 0.01091246 0.00936975 0.01050635 0.01083424\n",
      " 0.00828329 0.01025357 0.01331976 0.01059823 0.00963132 0.01158611\n",
      " 0.01045485 0.00977012 0.01165312 0.01152502 0.01027699 0.01012208\n",
      " 0.01028531 0.01185358 0.00955807 0.01081767 0.01017145 0.01076549\n",
      " 0.01142664 0.01100303 0.01075887 0.01015829 0.01113775 0.01191355\n",
      " 0.01004126 0.01083623 0.01083317 0.01160871 0.01163665 0.01090463\n",
      " 0.01173182 0.01151202 0.01075836 0.01107218 0.01045091 0.01088173\n",
      " 0.00968164 0.01042767 0.01171362 0.01088591 0.01112097 0.0108098\n",
      " 0.01108472 0.01061677 0.01170402 0.0112007  0.01130542 0.01135581\n",
      " 0.00966783 0.01085934 0.00984821 0.01127126 0.0112787  0.01088102\n",
      " 0.01062847 0.0107102  0.01099997 0.0098955  0.00990198 0.01051034\n",
      " 0.01119281 0.0117061  0.01038245 0.01088118 0.01166557 0.01027107\n",
      " 0.01045227 0.01090188 0.0107564  0.01204168 0.01019198 0.01037765\n",
      " 0.0102403  0.01006597 0.0117128  0.01136753 0.01042615 0.01210478\n",
      " 0.01051033 0.01052576 0.01230062 0.01076307 0.01028273 0.01153757\n",
      " 0.01025918 0.01160111 0.01028662 0.00990957 0.01210522 0.01150422\n",
      " 0.01026978 0.01036733 0.01021688 0.01108801 0.01122524 0.01067033\n",
      " 0.01085775 0.01086566 0.01111286 0.01141029 0.01079217 0.01094906\n",
      " 0.01040716 0.01039188 0.01150738 0.011278   0.01190111 0.0102843\n",
      " 0.01032935 0.01051494 0.0096013  0.01103024 0.0101068  0.00986168\n",
      " 0.01110268 0.01183511 0.01180747 0.01134102 0.01047781 0.01199634\n",
      " 0.00986028 0.01007077 0.01063308 0.01083006 0.01023463 0.01090337\n",
      " 0.0110431  0.01088515 0.00962918 0.00948542 0.01185754 0.01215414\n",
      " 0.01199703 0.01149397 0.01185583 0.01066919 0.01079938 0.01054154\n",
      " 0.00906338 0.00914761 0.01046031 0.01219636 0.00988908 0.00999575\n",
      " 0.00983206 0.011118   0.01148966 0.01152525 0.01211657 0.00974113\n",
      " 0.0116985  0.01131037 0.01193512 0.01030763 0.00981102 0.01145471\n",
      " 0.01134465 0.01063987 0.01037042 0.01072647 0.00958692 0.01042094\n",
      " 0.01101037 0.01078967 0.01189287 0.01059426 0.01168049 0.01165405\n",
      " 0.00969048 0.0114164  0.01142073 0.01175019 0.0102881  0.01135208\n",
      " 0.01023076 0.01134908 0.01081987 0.01066094 0.01016026 0.01147695\n",
      " 0.01134026 0.01068592 0.01004675 0.01082097 0.01092275 0.01152114\n",
      " 0.00980821 0.01049866 0.01113272 0.01199213 0.00957265 0.01234772\n",
      " 0.01097409 0.01135401 0.01228624 0.00969943 0.01096967 0.01132236\n",
      " 0.01167243 0.01148075 0.01050414 0.01127425 0.01036934 0.00962586\n",
      " 0.01110996 0.00991872 0.01050252 0.01117225 0.00959229 0.01080286\n",
      " 0.01154645 0.01109767 0.01188276 0.01067212 0.01094439 0.01042092\n",
      " 0.01164505 0.01213122 0.01109523 0.01022823 0.01000578 0.01006587\n",
      " 0.01055042 0.00987577 0.01122958 0.00993393 0.0112165  0.01003996\n",
      " 0.01106166 0.01055865 0.01081361 0.01006029 0.01080035 0.0109598\n",
      " 0.01158219 0.01027187 0.01033792 0.01127881 0.01119763 0.01123682\n",
      " 0.00968412 0.01058034 0.01242584 0.00975164 0.01125855 0.00946639\n",
      " 0.01137912 0.01137314 0.0111689  0.00922307 0.0103005  0.01083767\n",
      " 0.01084401 0.00998704 0.0102009  0.00937849 0.01125178 0.01094433\n",
      " 0.0100676  0.01025202 0.01005003 0.00958528 0.01166065 0.00987756\n",
      " 0.00978287 0.01194381 0.01085538 0.0125763  0.01149972 0.00935591\n",
      " 0.01072598 0.00978215 0.01112365 0.01075352 0.01177189 0.01192553\n",
      " 0.01217954 0.0111281  0.01009818 0.01100518 0.01111384 0.00971569\n",
      " 0.01142537 0.0108056  0.0106895  0.01138582 0.01081828 0.00982083\n",
      " 0.01181213 0.01054635 0.01153628 0.01124398 0.01039705 0.01081036\n",
      " 0.00949094 0.01204587 0.01166401 0.01121393 0.01021031 0.00993594\n",
      " 0.0109046  0.01087124 0.01027291 0.01005453 0.0118325  0.00993054\n",
      " 0.01149988 0.01241527 0.00985848 0.0102261  0.00989995 0.01224576\n",
      " 0.01059502 0.01052114 0.01086606 0.01160962 0.01070143 0.01056573\n",
      " 0.01132737 0.01168995 0.01125478 0.01073815 0.01119886 0.01126425\n",
      " 0.01127387 0.00956127 0.01078385 0.01148042 0.01183143 0.01028479\n",
      " 0.01129116 0.01021328 0.01051668 0.00967713 0.01044027 0.01148715\n",
      " 0.01097519 0.01020068 0.00988417 0.01031035 0.00935773 0.01149719\n",
      " 0.01069908 0.01094229 0.01088019 0.01040239 0.01005444 0.0102135\n",
      " 0.01094091 0.01125707 0.01090523 0.01138646 0.01147385 0.01093452\n",
      " 0.01125498 0.00936098 0.01161926 0.01091359 0.00988449 0.01182751\n",
      " 0.01069405 0.0112337  0.01098392 0.01053111 0.01042852 0.00938107\n",
      " 0.01005704 0.01128634 0.0110741  0.00986616 0.01152883 0.0112918\n",
      " 0.0089559  0.01007193 0.01086129 0.01187997 0.01132631 0.0112991\n",
      " 0.01036238 0.01031257 0.01094413 0.01083893 0.0116287  0.01185161\n",
      " 0.00975188 0.01200375 0.01227604 0.00966695 0.0117217  0.0119419\n",
      " 0.01061212 0.01071136 0.01055687 0.01015853 0.01097879 0.01009029\n",
      " 0.01086098 0.01106318 0.01054172 0.00983154 0.01239744 0.01101565\n",
      " 0.0111714  0.010873   0.01199543 0.01005616 0.01141504 0.01048534\n",
      " 0.01026083 0.00995546 0.00960157 0.00986258 0.0106726  0.01009119\n",
      " 0.01176847 0.01011961 0.01112932 0.00909105 0.01029942 0.01019549\n",
      " 0.01186645 0.01021678 0.01059762 0.01078445 0.01090332 0.0115927\n",
      " 0.01102108 0.01138014 0.01139563 0.01040195 0.00966351 0.01097722\n",
      " 0.01087682 0.0108577  0.01131465 0.01121033 0.01125751 0.01011751\n",
      " 0.01053042 0.01021823 0.00996255 0.01066679 0.01080968 0.01083855\n",
      " 0.01115351 0.01068106 0.00980662 0.01076733 0.01117199 0.00910666\n",
      " 0.01004857 0.01029746 0.01064926 0.00953096 0.01111408 0.01054774\n",
      " 0.01087347 0.01005181 0.01114849 0.01146515 0.01126315 0.01060002\n",
      " 0.01103693 0.01185508 0.01190383 0.01136796 0.01087938 0.0115683\n",
      " 0.01070989 0.00943065 0.01047588 0.01126309 0.00953443 0.01065469\n",
      " 0.00947141 0.00971885 0.01082265 0.01031754 0.01081535 0.00999743\n",
      " 0.01007975 0.00968722 0.01079459 0.01131611 0.01201906 0.01047123\n",
      " 0.01041652 0.0107187  0.01072377 0.00989932 0.01040175 0.01011623\n",
      " 0.01054623 0.00983969 0.01050982 0.01040904 0.01097895 0.01175634\n",
      " 0.01087958 0.01126478 0.01050987 0.01194103 0.01025766 0.01009971\n",
      " 0.01201295 0.0114273  0.01069291 0.00960225 0.01124017 0.01024562\n",
      " 0.01181057 0.00870636 0.01102148 0.01069392 0.01114244 0.01069433\n",
      " 0.00922173 0.01009773 0.01140458 0.00974891 0.01035492 0.01166827\n",
      " 0.01157921 0.01072939 0.00973859 0.01063548 0.01161035 0.01092476\n",
      " 0.01061594 0.01094539 0.01066795 0.01116458 0.0101402  0.01110954\n",
      " 0.0115523  0.0119117  0.01040721 0.00983696 0.0104406  0.01005102\n",
      " 0.01117631 0.01058487 0.01047237 0.01044065 0.00990866 0.01075293\n",
      " 0.01058087 0.01169313 0.01074114 0.01062097 0.01086502 0.00947451\n",
      " 0.00952402 0.0106535  0.01222096 0.01076597 0.01034362 0.01058987\n",
      " 0.01092357 0.01123005 0.01098273 0.00976528 0.01031911 0.01123474\n",
      " 0.01082517 0.00916103 0.00892335 0.01028317 0.01078979 0.00967436\n",
      " 0.01095833 0.01100109 0.01052973 0.01112067]\n"
     ]
    }
   ],
   "source": [
    "#Simulating Volume and volume and Poisson Process\n",
    "\n",
    "# Replace with volume data\n",
    "\n",
    "# Calculate the average trading rate (λ) from historical data\n",
    "# Calculate sums of Hourly Volume\n",
    "total_historical_sum = 0\n",
    "for hourly_volume in hourly_volumes:\n",
    "    total_historical_sum += hourly_volume\n",
    "average_historical_trading_rate = total_historical_sum / len(hourly_volumes)\n",
    "\n",
    "# Simulate trading volume using a Poisson process\n",
    "simulated_hourly_volume = np.random.poisson(average_historical_trading_rate, len(hourly_volumes))\n",
    "\n",
    "# Calculate sums of Hourly Volume\n",
    "total_simulated_sum = 0\n",
    "for hourly_volume in simulated_hourly_volume:\n",
    "    total_simulated_sum += hourly_volume\n",
    "average_simulated_trading_rate = total_simulated_sum / len(simulated_hourly_volume)\n",
    "\n",
    "# Adjust for daily variation (for example, increase trading rate during high-activity hours)\n",
    "# Can customize this adjustment based on your market's characteristics\n",
    "simulated_hourly_volume[0] *= 1.2  # Increase volume during market open\n",
    "simulated_hourly_volume[-1] *= 1.2  # Increase volume during market close\n",
    "\n",
    "# Normalize simulated volume to match historical data\n",
    "np.multiply(simulated_hourly_volume, total_historical_sum / total_simulated_sum)\n",
    "\n",
    "# Create a DataFrame to store the simulated volume data\n",
    "simulated_data = pd.DataFrame({'Hourly_Volume': simulated_hourly_volume})"
   ]
  },
  {
   "cell_type": "code",
   "execution_count": 55,
   "id": "69d71f43",
   "metadata": {},
   "outputs": [
    {
     "name": "stderr",
     "output_type": "stream",
     "text": [
      "/var/folders/m6/9b999tss1dv5ml49bs8bnqww0000gn/T/ipykernel_62675/413005148.py:2: RuntimeWarning: invalid value encountered in double_scalars\n",
      "  xi = np.where(Zl < Z, k * (Z**0.5 - Zl**0.5), 0)\n",
      "/var/folders/m6/9b999tss1dv5ml49bs8bnqww0000gn/T/ipykernel_62675/413005148.py:3: RuntimeWarning: invalid value encountered in double_scalars\n",
      "  yi = np.where(Z > Zu, k * (Zu**0.5 - Zl**0.5), 0)\n"
     ]
    },
    {
     "ename": "NameError",
     "evalue": "name 'risk_free_rate_data' is not defined",
     "output_type": "error",
     "traceback": [
      "\u001b[0;31m---------------------------------------------------------------------------\u001b[0m",
      "\u001b[0;31mNameError\u001b[0m                                 Traceback (most recent call last)",
      "Cell \u001b[0;32mIn[55], line 21\u001b[0m\n\u001b[1;32m     18\u001b[0m daily_profits_i \u001b[38;5;241m=\u001b[39m split_simulated_spreads[:\u001b[38;5;241m45\u001b[39m] \u001b[38;5;241m*\u001b[39m simulated_hourly_volume \u001b[38;5;241m*\u001b[39m fee_rate \u001b[38;5;241m/\u001b[39m \u001b[38;5;241m2\u001b[39m  \u001b[38;5;66;03m# Adjust for bid and ask\u001b[39;00m\n\u001b[1;32m     20\u001b[0m \u001b[38;5;66;03m# Calculate daily opportunity cost based on your formula\u001b[39;00m\n\u001b[0;32m---> 21\u001b[0m daily_opportunity_cost_i \u001b[38;5;241m=\u001b[39m [integral_formula(alpha_0 \u001b[38;5;241m-\u001b[39m alpha_d, r, dt) \u001b[38;5;28;01mfor\u001b[39;00m alpha_d, r, dt \u001b[38;5;129;01min\u001b[39;00m \u001b[38;5;28mzip\u001b[39m(portfolio_loss_i, \u001b[43mrisk_free_rate_data\u001b[49m, dt_values)]\n\u001b[1;32m     23\u001b[0m total_daily_pnl_i \u001b[38;5;241m=\u001b[39m np\u001b[38;5;241m.\u001b[39marray(portfolio_loss_i) \u001b[38;5;241m+\u001b[39m np\u001b[38;5;241m.\u001b[39marray(daily_opportunity_cost_i) \u001b[38;5;241m+\u001b[39m daily_profits_i\n\u001b[1;32m     25\u001b[0m portfolio_losses\u001b[38;5;241m.\u001b[39mappend(portfolio_loss_i)\n",
      "\u001b[0;31mNameError\u001b[0m: name 'risk_free_rate_data' is not defined"
     ]
    }
   ],
   "source": [
    "# Rest of your code\n",
    "# Calculate portfolio losses, daily profits, and total daily PnL\n",
    "portfolio_losses = []  # Calculate portfolio losses based on simulated_spreads and simulated_vwap\n",
    "daily_profits = []  # Calculate daily profits based on simulated_spreads and simulated_vwap\n",
    "daily_opportunity_cost = []  # Calculate daily opportunity cost\n",
    "total_daily_pnl = []  # Calculate total daily PnL\n",
    "\n",
    "# k = z * y^2\n",
    "y_squared = np.multiply(simulated_hourly_volume, simulated_hourly_volume)  # y^2\n",
    "z = np.array(historical_midpoint[:45])  # z, z is the exchange rate (x/y) current midpoint\n",
    "k = np.multiply(y_squared, z)  # z * y^2, y supply of bond, volume hourly sim\n",
    "\n",
    "for i in range(n_simulations):\n",
    "    alpha_0 = alpha_t(k, bond_prices[0, 0], simulated_spreads[i, 0] / 2, simulated_spreads[i, 0] / 2)\n",
    "    split_simulated_spreads = simulated_spreads[:,0]\n",
    "    portfolio_loss_i = [alpha_0 - alpha_t(k, Z, Zl, Zu) for Z, Zl, Zu in zip(bond_prices[:, 1:], simulated_spreads[i, :] / 2, simulated_spreads[i, :] / 2)]\n",
    "    daily_profits_i = split_simulated_spreads[:45] * simulated_hourly_volume * fee_rate / 2  # Adjust for bid and ask\n",
    "    \n",
    "    # Calculate daily opportunity cost based on your formula\n",
    "    daily_opportunity_cost_i = [integral_formula(alpha_0 - alpha_d, r, dt) for alpha_d, r, dt in zip(portfolio_loss_i, risk_free_rate_data, dt_values)]\n",
    "    \n",
    "    total_daily_pnl_i = np.array(portfolio_loss_i) + np.array(daily_opportunity_cost_i) + daily_profits_i\n",
    "    \n",
    "    portfolio_losses.append(portfolio_loss_i)\n",
    "    daily_profits.append(daily_profits_i)\n",
    "    daily_opportunity_cost.append(daily_opportunity_cost_i)\n",
    "    total_daily_pnl.append(total_daily_pnl_i)\n",
    "\n",
    "portfolio_losses = np.array(portfolio_losses)\n",
    "daily_profits = np.array(daily_profits)\n",
    "daily_opportunity_cost = np.array(daily_opportunity_cost)\n",
    "total_daily_pnl = np.array(total_daily_pnl)\n",
    "\n",
    "print(\"Complete\")"
   ]
  },
  {
   "cell_type": "markdown",
   "id": "e24a3763-f1f8-41d2-96ff-e813834deba4",
   "metadata": {},
   "source": [
    "# Plot the LP PnL time series"
   ]
  },
  {
   "cell_type": "code",
   "execution_count": 25,
   "id": "9c1d8c26",
   "metadata": {},
   "outputs": [
    {
     "data": {
      "image/png": "[encoded data removed]",
      "text/plain": [
       "<Figure size 1200x600 with 1 Axes>"
      ]
     },
     "metadata": {},
     "output_type": "display_data"
    }
   ],
   "source": [
    "plt.figure(figsize=(12, 6))\n",
    "plt.plot(total_daily_pnl, label='LP PnL')\n",
    "plt.title('Liquidity Provider (LP) PnL Over Time')\n",
    "plt.xlabel('Day')\n",
    "plt.ylabel('PnL')\n",
    "plt.legend()\n",
    "plt.grid(True)\n",
    "plt.show()"
   ]
  },
  {
   "cell_type": "markdown",
   "id": "5dcff95d-f5a7-4b12-bd83-fbc46c6ebd7d",
   "metadata": {},
   "source": [
    "# Create a heatmap of LP PnL"
   ]
  },
  {
   "cell_type": "code",
   "execution_count": 35,
   "id": "0d2ed897-6e27-4c93-b7d2-4424a9f4b96e",
   "metadata": {},
   "outputs": [
    {
     "ename": "ValueError",
     "evalue": "zero-size array to reduction operation fmin which has no identity",
     "output_type": "error",
     "traceback": [
      "\u001b[0;31m---------------------------------------------------------------------------\u001b[0m",
      "\u001b[0;31mValueError\u001b[0m                                Traceback (most recent call last)",
      "Cell \u001b[0;32mIn[35], line 2\u001b[0m\n\u001b[1;32m      1\u001b[0m plt\u001b[38;5;241m.\u001b[39mfigure(figsize\u001b[38;5;241m=\u001b[39m(\u001b[38;5;241m12\u001b[39m, \u001b[38;5;241m6\u001b[39m))\n\u001b[0;32m----> 2\u001b[0m \u001b[43msns\u001b[49m\u001b[38;5;241;43m.\u001b[39;49m\u001b[43mheatmap\u001b[49m\u001b[43m(\u001b[49m\u001b[43mnp\u001b[49m\u001b[38;5;241;43m.\u001b[39;49m\u001b[43marray\u001b[49m\u001b[43m(\u001b[49m\u001b[43m[\u001b[49m\u001b[43mtotal_daily_pnl\u001b[49m\u001b[43m]\u001b[49m\u001b[43m)\u001b[49m\u001b[43m,\u001b[49m\u001b[43m \u001b[49m\u001b[43mannot\u001b[49m\u001b[38;5;241;43m=\u001b[39;49m\u001b[38;5;28;43;01mTrue\u001b[39;49;00m\u001b[43m,\u001b[49m\u001b[43m \u001b[49m\u001b[43mcmap\u001b[49m\u001b[38;5;241;43m=\u001b[39;49m\u001b[38;5;124;43m'\u001b[39;49m\u001b[38;5;124;43mcoolwarm\u001b[39;49m\u001b[38;5;124;43m'\u001b[39;49m\u001b[43m,\u001b[49m\u001b[43m \u001b[49m\u001b[43mfmt\u001b[49m\u001b[38;5;241;43m=\u001b[39;49m\u001b[38;5;124;43m'\u001b[39;49m\u001b[38;5;124;43m.2f\u001b[39;49m\u001b[38;5;124;43m'\u001b[39;49m\u001b[43m,\u001b[49m\u001b[43m \u001b[49m\u001b[43mcbar\u001b[49m\u001b[38;5;241;43m=\u001b[39;49m\u001b[38;5;28;43;01mTrue\u001b[39;49;00m\u001b[43m)\u001b[49m\n\u001b[1;32m      3\u001b[0m plt\u001b[38;5;241m.\u001b[39mtitle(\u001b[38;5;124m'\u001b[39m\u001b[38;5;124mLiquidity Provider (LP) PnL Heatmap\u001b[39m\u001b[38;5;124m'\u001b[39m)\n\u001b[1;32m      4\u001b[0m plt\u001b[38;5;241m.\u001b[39mxlabel(\u001b[38;5;124m'\u001b[39m\u001b[38;5;124mDay\u001b[39m\u001b[38;5;124m'\u001b[39m)\n",
      "File \u001b[0;32m/Library/Frameworks/Python.framework/Versions/3.10/lib/python3.10/site-packages/seaborn/matrix.py:446\u001b[0m, in \u001b[0;36mheatmap\u001b[0;34m(data, vmin, vmax, cmap, center, robust, annot, fmt, annot_kws, linewidths, linecolor, cbar, cbar_kws, cbar_ax, square, xticklabels, yticklabels, mask, ax, **kwargs)\u001b[0m\n\u001b[1;32m    365\u001b[0m \u001b[38;5;250m\u001b[39m\u001b[38;5;124;03m\"\"\"Plot rectangular data as a color-encoded matrix.\u001b[39;00m\n\u001b[1;32m    366\u001b[0m \n\u001b[1;32m    367\u001b[0m \u001b[38;5;124;03mThis is an Axes-level function and will draw the heatmap into the\u001b[39;00m\n\u001b[0;32m   (...)\u001b[0m\n\u001b[1;32m    443\u001b[0m \n\u001b[1;32m    444\u001b[0m \u001b[38;5;124;03m\"\"\"\u001b[39;00m\n\u001b[1;32m    445\u001b[0m \u001b[38;5;66;03m# Initialize the plotter object\u001b[39;00m\n\u001b[0;32m--> 446\u001b[0m plotter \u001b[38;5;241m=\u001b[39m \u001b[43m_HeatMapper\u001b[49m\u001b[43m(\u001b[49m\u001b[43mdata\u001b[49m\u001b[43m,\u001b[49m\u001b[43m \u001b[49m\u001b[43mvmin\u001b[49m\u001b[43m,\u001b[49m\u001b[43m \u001b[49m\u001b[43mvmax\u001b[49m\u001b[43m,\u001b[49m\u001b[43m \u001b[49m\u001b[43mcmap\u001b[49m\u001b[43m,\u001b[49m\u001b[43m \u001b[49m\u001b[43mcenter\u001b[49m\u001b[43m,\u001b[49m\u001b[43m \u001b[49m\u001b[43mrobust\u001b[49m\u001b[43m,\u001b[49m\u001b[43m \u001b[49m\u001b[43mannot\u001b[49m\u001b[43m,\u001b[49m\u001b[43m \u001b[49m\u001b[43mfmt\u001b[49m\u001b[43m,\u001b[49m\n\u001b[1;32m    447\u001b[0m \u001b[43m                      \u001b[49m\u001b[43mannot_kws\u001b[49m\u001b[43m,\u001b[49m\u001b[43m \u001b[49m\u001b[43mcbar\u001b[49m\u001b[43m,\u001b[49m\u001b[43m \u001b[49m\u001b[43mcbar_kws\u001b[49m\u001b[43m,\u001b[49m\u001b[43m \u001b[49m\u001b[43mxticklabels\u001b[49m\u001b[43m,\u001b[49m\n\u001b[1;32m    448\u001b[0m \u001b[43m                      \u001b[49m\u001b[43myticklabels\u001b[49m\u001b[43m,\u001b[49m\u001b[43m \u001b[49m\u001b[43mmask\u001b[49m\u001b[43m)\u001b[49m\n\u001b[1;32m    450\u001b[0m \u001b[38;5;66;03m# Add the pcolormesh kwargs here\u001b[39;00m\n\u001b[1;32m    451\u001b[0m kwargs[\u001b[38;5;124m\"\u001b[39m\u001b[38;5;124mlinewidths\u001b[39m\u001b[38;5;124m\"\u001b[39m] \u001b[38;5;241m=\u001b[39m linewidths\n",
      "File \u001b[0;32m/Library/Frameworks/Python.framework/Versions/3.10/lib/python3.10/site-packages/seaborn/matrix.py:163\u001b[0m, in \u001b[0;36m_HeatMapper.__init__\u001b[0;34m(self, data, vmin, vmax, cmap, center, robust, annot, fmt, annot_kws, cbar, cbar_kws, xticklabels, yticklabels, mask)\u001b[0m\n\u001b[1;32m    160\u001b[0m \u001b[38;5;28mself\u001b[39m\u001b[38;5;241m.\u001b[39mylabel \u001b[38;5;241m=\u001b[39m ylabel \u001b[38;5;28;01mif\u001b[39;00m ylabel \u001b[38;5;129;01mis\u001b[39;00m \u001b[38;5;129;01mnot\u001b[39;00m \u001b[38;5;28;01mNone\u001b[39;00m \u001b[38;5;28;01melse\u001b[39;00m \u001b[38;5;124m\"\u001b[39m\u001b[38;5;124m\"\u001b[39m\n\u001b[1;32m    162\u001b[0m \u001b[38;5;66;03m# Determine good default values for the colormapping\u001b[39;00m\n\u001b[0;32m--> 163\u001b[0m \u001b[38;5;28;43mself\u001b[39;49m\u001b[38;5;241;43m.\u001b[39;49m\u001b[43m_determine_cmap_params\u001b[49m\u001b[43m(\u001b[49m\u001b[43mplot_data\u001b[49m\u001b[43m,\u001b[49m\u001b[43m \u001b[49m\u001b[43mvmin\u001b[49m\u001b[43m,\u001b[49m\u001b[43m \u001b[49m\u001b[43mvmax\u001b[49m\u001b[43m,\u001b[49m\n\u001b[1;32m    164\u001b[0m \u001b[43m                            \u001b[49m\u001b[43mcmap\u001b[49m\u001b[43m,\u001b[49m\u001b[43m \u001b[49m\u001b[43mcenter\u001b[49m\u001b[43m,\u001b[49m\u001b[43m \u001b[49m\u001b[43mrobust\u001b[49m\u001b[43m)\u001b[49m\n\u001b[1;32m    166\u001b[0m \u001b[38;5;66;03m# Sort out the annotations\u001b[39;00m\n\u001b[1;32m    167\u001b[0m \u001b[38;5;28;01mif\u001b[39;00m annot \u001b[38;5;129;01mis\u001b[39;00m \u001b[38;5;28;01mNone\u001b[39;00m \u001b[38;5;129;01mor\u001b[39;00m annot \u001b[38;5;129;01mis\u001b[39;00m \u001b[38;5;28;01mFalse\u001b[39;00m:\n",
      "File \u001b[0;32m/Library/Frameworks/Python.framework/Versions/3.10/lib/python3.10/site-packages/seaborn/matrix.py:202\u001b[0m, in \u001b[0;36m_HeatMapper._determine_cmap_params\u001b[0;34m(self, plot_data, vmin, vmax, cmap, center, robust)\u001b[0m\n\u001b[1;32m    200\u001b[0m         vmin \u001b[38;5;241m=\u001b[39m np\u001b[38;5;241m.\u001b[39mnanpercentile(calc_data, \u001b[38;5;241m2\u001b[39m)\n\u001b[1;32m    201\u001b[0m     \u001b[38;5;28;01melse\u001b[39;00m:\n\u001b[0;32m--> 202\u001b[0m         vmin \u001b[38;5;241m=\u001b[39m \u001b[43mnp\u001b[49m\u001b[38;5;241;43m.\u001b[39;49m\u001b[43mnanmin\u001b[49m\u001b[43m(\u001b[49m\u001b[43mcalc_data\u001b[49m\u001b[43m)\u001b[49m\n\u001b[1;32m    203\u001b[0m \u001b[38;5;28;01mif\u001b[39;00m vmax \u001b[38;5;129;01mis\u001b[39;00m \u001b[38;5;28;01mNone\u001b[39;00m:\n\u001b[1;32m    204\u001b[0m     \u001b[38;5;28;01mif\u001b[39;00m robust:\n",
      "File \u001b[0;32m<__array_function__ internals>:180\u001b[0m, in \u001b[0;36mnanmin\u001b[0;34m(*args, **kwargs)\u001b[0m\n",
      "File \u001b[0;32m/Library/Frameworks/Python.framework/Versions/3.10/lib/python3.10/site-packages/numpy/lib/nanfunctions.py:343\u001b[0m, in \u001b[0;36mnanmin\u001b[0;34m(a, axis, out, keepdims, initial, where)\u001b[0m\n\u001b[1;32m    338\u001b[0m     kwargs[\u001b[38;5;124m'\u001b[39m\u001b[38;5;124mwhere\u001b[39m\u001b[38;5;124m'\u001b[39m] \u001b[38;5;241m=\u001b[39m where\n\u001b[1;32m    340\u001b[0m \u001b[38;5;28;01mif\u001b[39;00m \u001b[38;5;28mtype\u001b[39m(a) \u001b[38;5;129;01mis\u001b[39;00m np\u001b[38;5;241m.\u001b[39mndarray \u001b[38;5;129;01mand\u001b[39;00m a\u001b[38;5;241m.\u001b[39mdtype \u001b[38;5;241m!=\u001b[39m np\u001b[38;5;241m.\u001b[39mobject_:\n\u001b[1;32m    341\u001b[0m     \u001b[38;5;66;03m# Fast, but not safe for subclasses of ndarray, or object arrays,\u001b[39;00m\n\u001b[1;32m    342\u001b[0m     \u001b[38;5;66;03m# which do not implement isnan (gh-9009), or fmin correctly (gh-8975)\u001b[39;00m\n\u001b[0;32m--> 343\u001b[0m     res \u001b[38;5;241m=\u001b[39m \u001b[43mnp\u001b[49m\u001b[38;5;241;43m.\u001b[39;49m\u001b[43mfmin\u001b[49m\u001b[38;5;241;43m.\u001b[39;49m\u001b[43mreduce\u001b[49m\u001b[43m(\u001b[49m\u001b[43ma\u001b[49m\u001b[43m,\u001b[49m\u001b[43m \u001b[49m\u001b[43maxis\u001b[49m\u001b[38;5;241;43m=\u001b[39;49m\u001b[43maxis\u001b[49m\u001b[43m,\u001b[49m\u001b[43m \u001b[49m\u001b[43mout\u001b[49m\u001b[38;5;241;43m=\u001b[39;49m\u001b[43mout\u001b[49m\u001b[43m,\u001b[49m\u001b[43m \u001b[49m\u001b[38;5;241;43m*\u001b[39;49m\u001b[38;5;241;43m*\u001b[39;49m\u001b[43mkwargs\u001b[49m\u001b[43m)\u001b[49m\n\u001b[1;32m    344\u001b[0m     \u001b[38;5;28;01mif\u001b[39;00m np\u001b[38;5;241m.\u001b[39misnan(res)\u001b[38;5;241m.\u001b[39many():\n\u001b[1;32m    345\u001b[0m         warnings\u001b[38;5;241m.\u001b[39mwarn(\u001b[38;5;124m\"\u001b[39m\u001b[38;5;124mAll-NaN slice encountered\u001b[39m\u001b[38;5;124m\"\u001b[39m, \u001b[38;5;167;01mRuntimeWarning\u001b[39;00m,\n\u001b[1;32m    346\u001b[0m                       stacklevel\u001b[38;5;241m=\u001b[39m\u001b[38;5;241m3\u001b[39m)\n",
      "\u001b[0;31mValueError\u001b[0m: zero-size array to reduction operation fmin which has no identity"
     ]
    },
    {
     "data": {
      "text/plain": [
       "<Figure size 1200x600 with 0 Axes>"
      ]
     },
     "metadata": {},
     "output_type": "display_data"
    }
   ],
   "source": [
    "plt.figure(figsize=(12, 6))\n",
    "sns.heatmap(np.array([total_daily_pnl]), annot=True, cmap='coolwarm', fmt='.2f', cbar=True)\n",
    "plt.title('Liquidity Provider (LP) PnL Heatmap')\n",
    "plt.xlabel('Day')\n",
    "plt.ylabel('Simulation')\n",
    "plt.show()"
   ]
  },
  {
   "cell_type": "code",
   "execution_count": null,
   "id": "e4b5ec1b-084c-4a3e-a67e-d796ec32d686",
   "metadata": {},
   "outputs": [],
   "source": []
  }
 ],
 "metadata": {
  "kernelspec": {
   "display_name": "Python 3 (ipykernel)",
   "language": "python",
   "name": "python3"
  },
  "language_info": {
   "codemirror_mode": {
    "name": "ipython",
    "version": 3
   },
   "file_extension": ".py",
   "mimetype": "text/x-python",
   "name": "python",
   "nbconvert_exporter": "python",
   "pygments_lexer": "ipython3",
   "version": "3.10.6"
  }
 },
 "nbformat": 4,
 "nbformat_minor": 5
}
