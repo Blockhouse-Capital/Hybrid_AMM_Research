{
 "cells": [
  {
   "cell_type": "code",
   "execution_count": null,
   "id": "b2cbaa83",
   "metadata": {},
   "outputs": [],
   "source": [
    "# Calculate portfolio losses, daily profits, and total daily PnL\n",
    "portfolio_losses = []  # Calculate portfolio losses based on simulated_spreads and simulated_vwap\n",
    "daily_profits = []  # Calculate daily profits based on simulated_spreads and simulated_vwap\n",
    "daily_opportunity_cost = []  # Calculate daily opportunity cost\n",
    "total_daily_pnl = []  # Calculate total daily PnL\n",
    "\n",
    "for i in range(n_simulations):\n",
    "    alpha_0 = alpha_t(k, bond_prices[0, 0], simulated_spreads[i, 0] / 2, simulated_spreads[i, 0] / 2)\n",
    "    \n",
    "    portfolio_loss_i = [alpha_0 - alpha_t(k, Z, Zl, Zu) for Z, Zl, Zu in zip(bond_prices[:, 1:], simulated_spreads[i, :] / 2, simulated_spreads[i, :] / 2)]\n",
    "    daily_profits_i = forecasted_spreads * simulated_volumes[i, :] * fee_rate / 2  # Adjust for bid and ask\n",
    "    \n",
    "    # Calculate daily opportunity cost based on your formula\n",
    "    daily_opportunity_cost_i = [integral_formula(alpha_0 - alpha_d, r, dt) for alpha_d, r, dt in zip(portfolio_loss_i, risk_free_rate_data, dt_values)]\n",
    "    \n",
    "    total_daily_pnl_i = np.array(portfolio_loss_i) + np.array(daily_opportunity_cost_i) + daily_profits_i\n",
    "    \n",
    "    portfolio_losses.append(portfolio_loss_i)\n",
    "    daily_profits.append(daily_profits_i)\n",
    "    daily_opportunity_cost.append(daily_opportunity_cost_i)\n",
    "    total_daily_pnl.append(total_daily_pnl_i)\n",
    "\n",
    "portfolio_losses = np.array(portfolio_losses)\n",
    "daily_profits = np.array(daily_profits)\n",
    "daily_opportunity_cost = np.array(daily_opportunity_cost)\n",
    "total_daily_pnl = np.array(total_daily_pnl)"
   ]
  }
 ],
 "metadata": {
  "kernelspec": {
   "display_name": "Python 3 (ipykernel)",
   "language": "python",
   "name": "python3"
  },
  "language_info": {
   "codemirror_mode": {
    "name": "ipython",
    "version": 3
   },
   "file_extension": ".py",
   "mimetype": "text/x-python",
   "name": "python",
   "nbconvert_exporter": "python",
   "pygments_lexer": "ipython3",
   "version": "3.11.4"
  }
 },
 "nbformat": 4,
 "nbformat_minor": 5
}
