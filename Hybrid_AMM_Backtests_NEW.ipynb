{
  "cells": [
    {
      "cell_type": "markdown",
      "id": "4b4e9623-e7d9-4a67-bb8f-03486b2884c9",
      "metadata": {
        "id": "4b4e9623-e7d9-4a67-bb8f-03486b2884c9"
      },
      "source": [
        "# Imports"
      ]
    },
    {
      "cell_type": "code",
      "source": [
        "!pip install pmdarima"
      ],
      "metadata": {
        "colab": {
          "base_uri": "https://localhost:8080/"
        },
        "id": "RLSxZijRzKVI",
        "outputId": "7669b799-cfe9-439f-a2aa-0ec98cb031a2"
      },
      "id": "RLSxZijRzKVI",
      "execution_count": 36,
      "outputs": [
        {
          "output_type": "stream",
          "name": "stdout",
          "text": [
            "Collecting pmdarima\n",
            "  Downloading pmdarima-2.0.3-cp310-cp310-manylinux_2_17_x86_64.manylinux2014_x86_64.manylinux_2_28_x86_64.whl (1.8 MB)\n",
            "\u001b[2K     \u001b[90m━━━━━━━━━━━━━━━━━━━━━━━━━━━━━━━━━━━━━━━━\u001b[0m \u001b[32m1.8/1.8 MB\u001b[0m \u001b[31m10.1 MB/s\u001b[0m eta \u001b[36m0:00:00\u001b[0m\n",
            "\u001b[?25hRequirement already satisfied: joblib>=0.11 in /usr/local/lib/python3.10/dist-packages (from pmdarima) (1.3.2)\n",
            "Requirement already satisfied: Cython!=0.29.18,!=0.29.31,>=0.29 in /usr/local/lib/python3.10/dist-packages (from pmdarima) (3.0.3)\n",
            "Requirement already satisfied: numpy>=1.21.2 in /usr/local/lib/python3.10/dist-packages (from pmdarima) (1.23.5)\n",
            "Requirement already satisfied: pandas>=0.19 in /usr/local/lib/python3.10/dist-packages (from pmdarima) (1.5.3)\n",
            "Requirement already satisfied: scikit-learn>=0.22 in /usr/local/lib/python3.10/dist-packages (from pmdarima) (1.2.2)\n",
            "Requirement already satisfied: scipy>=1.3.2 in /usr/local/lib/python3.10/dist-packages (from pmdarima) (1.11.3)\n",
            "Requirement already satisfied: statsmodels>=0.13.2 in /usr/local/lib/python3.10/dist-packages (from pmdarima) (0.14.0)\n",
            "Requirement already satisfied: urllib3 in /usr/local/lib/python3.10/dist-packages (from pmdarima) (2.0.6)\n",
            "Requirement already satisfied: setuptools!=50.0.0,>=38.6.0 in /usr/local/lib/python3.10/dist-packages (from pmdarima) (67.7.2)\n",
            "Requirement already satisfied: python-dateutil>=2.8.1 in /usr/local/lib/python3.10/dist-packages (from pandas>=0.19->pmdarima) (2.8.2)\n",
            "Requirement already satisfied: pytz>=2020.1 in /usr/local/lib/python3.10/dist-packages (from pandas>=0.19->pmdarima) (2023.3.post1)\n",
            "Requirement already satisfied: threadpoolctl>=2.0.0 in /usr/local/lib/python3.10/dist-packages (from scikit-learn>=0.22->pmdarima) (3.2.0)\n",
            "Requirement already satisfied: patsy>=0.5.2 in /usr/local/lib/python3.10/dist-packages (from statsmodels>=0.13.2->pmdarima) (0.5.3)\n",
            "Requirement already satisfied: packaging>=21.3 in /usr/local/lib/python3.10/dist-packages (from statsmodels>=0.13.2->pmdarima) (23.2)\n",
            "Requirement already satisfied: six in /usr/local/lib/python3.10/dist-packages (from patsy>=0.5.2->statsmodels>=0.13.2->pmdarima) (1.16.0)\n",
            "Installing collected packages: pmdarima\n",
            "Successfully installed pmdarima-2.0.3\n"
          ]
        }
      ]
    },
    {
      "cell_type": "code",
      "execution_count": 37,
      "id": "6d1a1996",
      "metadata": {
        "id": "6d1a1996",
        "colab": {
          "base_uri": "https://localhost:8080/"
        },
        "outputId": "73ec4095-e964-42e6-dcb1-dbe24406ad8b"
      },
      "outputs": [
        {
          "output_type": "stream",
          "name": "stdout",
          "text": [
            "Import Complete\n"
          ]
        }
      ],
      "source": [
        "# From Imports\n",
        "from math import log, sqrt, pi, exp\n",
        "from scipy.stats import norm\n",
        "from datetime import datetime, date\n",
        "from pandas import DataFrame\n",
        "from datetime import datetime\n",
        "from scipy.optimize import minimize\n",
        "from arch import arch_model\n",
        "from sklearn.linear_model import LinearRegression\n",
        "\n",
        "# Alias Imports\n",
        "import numpy_financial as npf\n",
        "import numpy as np\n",
        "import pandas as pd\n",
        "import matplotlib.pyplot as plt\n",
        "import seaborn as sns\n",
        "\n",
        "# Imports\n",
        "import math\n",
        "import arch\n",
        "import openpyxl\n",
        "import pprint\n",
        "import pmdarima as pm\n",
        "\n",
        "print(\"Import Complete\")"
      ]
    },
    {
      "cell_type": "markdown",
      "id": "3acc6470",
      "metadata": {
        "id": "3acc6470"
      },
      "source": [
        "# Importing Bond Trading Data"
      ]
    },
    {
      "cell_type": "code",
      "execution_count": 10,
      "id": "1c6aabec-2c22-460b-bdaa-1936f624d0cf",
      "metadata": {
        "id": "1c6aabec-2c22-460b-bdaa-1936f624d0cf",
        "colab": {
          "base_uri": "https://localhost:8080/"
        },
        "outputId": "a8eeb242-8ce7-4349-aca3-51c4fca366c9"
      },
      "outputs": [
        {
          "output_type": "stream",
          "name": "stdout",
          "text": [
            "Excel Data Imported\n"
          ]
        }
      ],
      "source": [
        "# Importing Excel data of 2Y and 10Y Tbills\n",
        "tbill2Y = pd.read_excel(\"Treasury_Data_V1.xlsx\", \"T 4.625 02 28 25 Govt TRADES\")\n",
        "tbill10Y = pd.read_excel(\"Treasury_Data_V1.xlsx\", \"T 3.375 05 15 33 Govt TRADES\")\n",
        "#note, volume is traded in increments of $1000 USD at STGT Exchange\n",
        "#note, need to clean 10Y data, bids / asks don't line up\n",
        "\n",
        "# Making Trade Time, Trade Volume, and Ask Time into lists for 2Y Bond Data\n",
        "dates2Y = list(tbill2Y[\"Trade Time\"])\n",
        "asks2Y = list(tbill2Y[\"Ask Time\"]) # Currently Not Used\n",
        "\n",
        "print(\"Excel Data Imported\")"
      ]
    },
    {
      "cell_type": "markdown",
      "id": "c6f38ec4-1ebf-4df6-8093-32a3d43a799d",
      "metadata": {
        "id": "c6f38ec4-1ebf-4df6-8093-32a3d43a799d"
      },
      "source": [
        "# Cleaning Bond Trading Data"
      ]
    },
    {
      "cell_type": "code",
      "execution_count": 11,
      "id": "c7c224f0",
      "metadata": {
        "id": "c7c224f0",
        "outputId": "ec578f5c-ced0-4c77-9977-9d3aa2585167",
        "colab": {
          "base_uri": "https://localhost:8080/"
        }
      },
      "outputs": [
        {
          "output_type": "stream",
          "name": "stdout",
          "text": [
            "Data cleaned\n"
          ]
        }
      ],
      "source": [
        "# Cleaning Trade Time data\n",
        "clean_dates2Y = []\n",
        "\n",
        "# Going through the range and converting dates to Numpy datetime64s\n",
        "for i in range(len(dates2Y)):\n",
        "    date = np.datetime64(str(dates2Y[i].date()))\n",
        "\n",
        "    # Removing all NaT values from the list\n",
        "    if not np.isnat(date):\n",
        "\n",
        "        # Adding all dates to our clean_dates2Y list\n",
        "        clean_dates2Y.append(date)\n",
        "\n",
        "    # If no date given, we make datetime max value for easy spotting\n",
        "    else:\n",
        "        clean_dates2Y.append(np.datetime64(datetime.max))\n",
        "\n",
        "# Cleaning Ask Time data\n",
        "clean_asks2Y = []\n",
        "\n",
        "# Going through the range and converting dates to Numpy datetime64s\n",
        "for i in range(len(asks2Y)):\n",
        "    date = np.datetime64(str(asks2Y[i].date()))\n",
        "\n",
        "    # Removing all NaT values from the list\n",
        "    if not np.isnat(date):\n",
        "\n",
        "        # Adding all dates to our clean_asks2Y list\n",
        "        clean_asks2Y.append(date)\n",
        "\n",
        "    # If no date given, we make datetime max value for easy spotting\n",
        "    else:\n",
        "        clean_dates2Y.append(np.datetime64(datetime.max))\n",
        "\n",
        "print(\"Data cleaned\")"
      ]
    },
    {
      "cell_type": "markdown",
      "id": "baa3388c-b01f-4057-8372-68af3ee72d88",
      "metadata": {
        "id": "baa3388c-b01f-4057-8372-68af3ee72d88"
      },
      "source": [
        "# Calculating Average Daily Volume"
      ]
    },
    {
      "cell_type": "code",
      "execution_count": 13,
      "id": "7a413002-4525-488f-b9d9-f3984801d879",
      "metadata": {
        "id": "7a413002-4525-488f-b9d9-f3984801d879",
        "outputId": "3d9809a6-8422-4470-f7ea-c2a9ea35a45b",
        "colab": {
          "base_uri": "https://localhost:8080/"
        }
      },
      "outputs": [
        {
          "output_type": "stream",
          "name": "stdout",
          "text": [
            "Daily Volumes\n"
          ]
        }
      ],
      "source": [
        "# Adding new Date object column to data\n",
        "tbill2Y['Trade Time Date'] = clean_dates2Y\n",
        "tbill2Y['Ask Time Date'] = clean_asks2Y\n",
        "\n",
        "# Calculating the total volume on each specific day\n",
        "day_volumes = tbill2Y.groupby(['Trade Time Date'])['Trade Volume'].sum()\n",
        "\n",
        "# Getting all the unique dates from Trade Time Date\n",
        "unique_dates = tbill2Y['Trade Time Date'].unique()\n",
        "\n",
        "# Getting rid of the last row\n",
        "minus_max_date = np.resize(unique_dates, unique_dates.size - 1)\n",
        "minus_max_volume = np.resize(day_volumes, day_volumes.size - 1)\n",
        "\n",
        "# Creating Average Hourly Trading Volumes from Daily Volumes in Dictionary\n",
        "average_volume_daily = {} #key is date, value is total_volume\n",
        "\n",
        "# Creating dictionary around unique dates, and summed daily volumes\n",
        "for day, volume in zip(minus_max_date, day_volumes):\n",
        "\n",
        "    # Calculate the average volume for the date and store it in the dictionary\n",
        "    average_volume_daily[day] = volume / 12.0\n",
        "\n",
        "# Splitting into lists of Dates, Volumes\n",
        "dates = average_volume_daily.keys()\n",
        "hourly_volumes = average_volume_daily.values()\n",
        "\n",
        "# Formatting Float in Pandas\n",
        "pd.options.display.float_format = '{:.2f}'.format\n",
        "\n",
        "# Print the resulting list\n",
        "daily_volumes = pd.DataFrame()\n",
        "daily_volumes['Trading Day'] = dates\n",
        "daily_volumes['Hourly Volume'] = hourly_volumes\n",
        "\n",
        "print(\"Daily Volumes\")"
      ]
    },
    {
      "cell_type": "markdown",
      "id": "b7168c29",
      "metadata": {
        "id": "b7168c29"
      },
      "source": [
        "# Simulating Price and Spread Process"
      ]
    },
    {
      "cell_type": "code",
      "execution_count": 14,
      "id": "6568942e",
      "metadata": {
        "id": "6568942e"
      },
      "outputs": [],
      "source": [
        "#1) Use Cox-Ingersoll-Ross Model (CIR) model to simulate bond yield process (approximation of price process)\n",
        "#2) Use GARCH model to simulate bid-ask spreads in one step ahead forecasts\n",
        "#3) Z is simulated price, ask is Zu, bid is Zl, utilize to calculate daily portfolio value and loss\n",
        "#4) Calculate compounded interest loss\n",
        "#5) Add final portfolio loss to interest loss, print resuslts of all simulations\n",
        "#OTHER NOTES#\n",
        "#determine what k value we want to keep, assume constant k, $50B issue size"
      ]
    },
    {
      "cell_type": "markdown",
      "id": "6fb5f929-9673-47db-86b0-9281e41d9440",
      "metadata": {
        "id": "6fb5f929-9673-47db-86b0-9281e41d9440"
      },
      "source": [
        "# Calculate instantaneous LP position value as a function of k, Zl (bid), Zu (ask), and Z (price)"
      ]
    },
    {
      "cell_type": "code",
      "execution_count": 15,
      "id": "60f46c9e",
      "metadata": {
        "id": "60f46c9e"
      },
      "outputs": [],
      "source": [
        "def alpha_t(k, Z, Zl, Zu):\n",
        "    Z = np.where(Z < 0, np.nan, Z)\n",
        "    Zl = np.where(Zl < 0, np.nan, Zl)\n",
        "    Zu = np.where(Zu < 0, np.nan, Zu)\n",
        "\n",
        "    xi = k * (np.sqrt(Z) - np.sqrt(Zl))\n",
        "    xi = np.where(np.isnan(xi), 0, xi)\n",
        "\n",
        "    yi = k * (np.sqrt(Zu) - np.sqrt(Zl))\n",
        "    yi = np.where(np.isnan(yi), 0, yi)\n",
        "\n",
        "    return xi + yi * Z"
      ]
    },
    {
      "cell_type": "markdown",
      "id": "a4625fbe-5794-4723-93a7-1ecfb11b5f2f",
      "metadata": {
        "id": "a4625fbe-5794-4723-93a7-1ecfb11b5f2f"
      },
      "source": [
        "# Calculating Historical Midpoint between Bid and Ask"
      ]
    },
    {
      "cell_type": "code",
      "execution_count": 16,
      "id": "16a31446",
      "metadata": {
        "id": "16a31446",
        "outputId": "46326468-a9ef-43df-ae70-eb49124f1936",
        "colab": {
          "base_uri": "https://localhost:8080/"
        }
      },
      "outputs": [
        {
          "output_type": "stream",
          "name": "stdout",
          "text": [
            "Calculated Historical Midpoint and Historical Spreads\n"
          ]
        }
      ],
      "source": [
        "historical_bid_data = tbill2Y[\"Bid\"]\n",
        "historical_ask_data = tbill2Y[\"Ask\"]\n",
        "historical_midpoint = (historical_bid_data + historical_ask_data) / 2\n",
        "historical_spread = abs(historical_bid_data - historical_ask_data)\n",
        "# historical_midpoint\n",
        "\n",
        "print(\"Calculated Historical Midpoint and Historical Spreads\")"
      ]
    },
    {
      "cell_type": "markdown",
      "id": "87ce940f-734b-4067-9389-78241f116246",
      "metadata": {
        "id": "87ce940f-734b-4067-9389-78241f116246"
      },
      "source": [
        "# Calculating Price to Yield"
      ]
    },
    {
      "cell_type": "code",
      "execution_count": 17,
      "id": "6b4556a4",
      "metadata": {
        "id": "6b4556a4"
      },
      "outputs": [],
      "source": [
        "def price_to_yield(price, face_value, coupon_rate, coupon_frequency, current_date, maturity_date):\n",
        "    time_to_maturity_days = (maturity_date - current_date).days\n",
        "    time_to_maturity_hours = time_to_maturity_days * 24  # Convert to hours\n",
        "\n",
        "    full_coupon_periods = int(time_to_maturity_hours / (365.0 * 24 / coupon_frequency))\n",
        "    partial_coupon_period_hours = time_to_maturity_hours % (365.0 * 24 / coupon_frequency)\n",
        "\n",
        "    cash_flows = [(coupon_rate * face_value) / coupon_frequency] * full_coupon_periods\n",
        "\n",
        "    # Handle the partial coupon period\n",
        "    if partial_coupon_period_hours > 0:\n",
        "        partial_coupon_payment = (coupon_rate * face_value * partial_coupon_period_hours) / (365.0 * 24)\n",
        "        cash_flows.append(partial_coupon_payment)\n",
        "\n",
        "    cash_flows[-1] += face_value  # Add the face value at maturity\n",
        "    yield_value = np.nan\n",
        "\n",
        "    try:\n",
        "        yield_value = npf.irr([-price] + cash_flows)\n",
        "    except ValueError:\n",
        "        pass\n",
        "\n",
        "    return yield_value"
      ]
    },
    {
      "cell_type": "markdown",
      "id": "2a8bf445-754e-425c-ac08-fc8c3e1732b7",
      "metadata": {
        "id": "2a8bf445-754e-425c-ac08-fc8c3e1732b7"
      },
      "source": [
        "# Estimate CIR model parameters using historical yields"
      ]
    },
    {
      "cell_type": "code",
      "execution_count": 18,
      "id": "7f19a2e6",
      "metadata": {
        "id": "7f19a2e6",
        "outputId": "f09b0f8c-0886-4b05-d1fe-4f4849aedf7d",
        "colab": {
          "base_uri": "https://localhost:8080/"
        }
      },
      "outputs": [
        {
          "output_type": "stream",
          "name": "stdout",
          "text": [
            "[ 0.05        1.05484352 -0.00940215  0.03      ]\n"
          ]
        }
      ],
      "source": [
        "def cir_likelihood(parameters, data):\n",
        "    mu, sigma, kappa, theta = parameters\n",
        "    dt = 1 / (252.0 * 12)  # Hourly data assumed\n",
        "    n = len(data)\n",
        "    log_likelihood = 0.0\n",
        "\n",
        "    for i in range(1, n):\n",
        "        Zl = data[i - 1]\n",
        "        Z = data[i]\n",
        "        Z_diff = Z - Zl\n",
        "        gamma = np.sqrt(kappa**2 + 2 * sigma**2)\n",
        "\n",
        "        log_likelihood += (\n",
        "            -(n - 1) * (np.log(2 * gamma) - np.log(sigma))\n",
        "            - (kappa + gamma) * Z_diff\n",
        "            - 2 * np.log((2 * gamma * np.exp(kappa + gamma * dt)) / (2 * gamma + (kappa + gamma) * (np.exp(gamma * dt) - 1)))\n",
        "        )\n",
        "\n",
        "    return -log_likelihood\n",
        "\n",
        "initial_parameters = [0.05, 0.1, 0.2, 0.03]  # Initial guesses for parameters\n",
        "result = minimize(cir_likelihood, initial_parameters, args=(historical_midpoint,), method='L-BFGS-B')\n",
        "mu, sigma, kappa, theta = result.x\n",
        "print(result.x)"
      ]
    },
    {
      "cell_type": "markdown",
      "id": "9fd77377-6433-473f-bb26-48a119656a40",
      "metadata": {
        "id": "9fd77377-6433-473f-bb26-48a119656a40"
      },
      "source": [
        "# Simulate bond yields based on the estimated CIR parameters"
      ]
    },
    {
      "cell_type": "code",
      "execution_count": 107,
      "id": "e34333ff",
      "metadata": {
        "id": "e34333ff",
        "colab": {
          "base_uri": "https://localhost:8080/"
        },
        "outputId": "889648fb-68b7-4ebf-f1e0-4570b94caf55"
      },
      "outputs": [
        {
          "output_type": "stream",
          "name": "stdout",
          "text": [
            "3024\n",
            "          sim_bond_prices sim_volume sim_spread\n",
            "0                   [0.0]        NaN        NaN\n",
            "1     [959.7814963891697]        NaN        NaN\n",
            "2     [999.1389744597064]        NaN        NaN\n",
            "3     [999.2643864161195]        NaN        NaN\n",
            "4     [999.3949744787324]        NaN        NaN\n",
            "...                   ...        ...        ...\n",
            "3019  [999.3852575188167]        NaN        NaN\n",
            "3020  [999.2502151855607]        NaN        NaN\n",
            "3021    [999.28158123175]        NaN        NaN\n",
            "3022  [999.2347303449036]        NaN        NaN\n",
            "3023  [999.2094694356964]        NaN        NaN\n",
            "\n",
            "[3024 rows x 3 columns]\n"
          ]
        }
      ],
      "source": [
        "T = 1  # Time to maturity, years\n",
        "n_simulations = 1  # Num of sims\n",
        "n_periods = 252 * 12 # Num of hourly periods in a year\n",
        "coupon_rate = 0.04625\n",
        "coupon_frequency = 2\n",
        "\n",
        "simulated_yields = np.zeros((n_simulations, n_periods)) #init array\n",
        "bond_prices = np.zeros((n_simulations, n_periods)) #init array\n",
        "\n",
        "for i in range(n_simulations):\n",
        "    dt = T / n_periods\n",
        "    current_date = tbill2Y[\"Bid Time\"][0]\n",
        "    maturity_date = current_date + pd.DateOffset(years=T)\n",
        "    bond_price = historical_midpoint.iloc[0]  # Initial bond price at first midpoint value\n",
        "\n",
        "    for j in range(1, n_periods):\n",
        "        bond_yield = price_to_yield(bond_price, 1000, coupon_rate, coupon_frequency, current_date, maturity_date)\n",
        "        gamma = np.sqrt(kappa**2 + 2 * sigma**2)\n",
        "        bond_yield += kappa * (theta - bond_yield) * dt + sigma * np.sqrt(bond_yield) * np.random.normal(0, np.sqrt(dt))  # CIR process\n",
        "        bond_price = 1000 / ((1 + bond_yield / coupon_frequency) ** (coupon_frequency * (maturity_date - current_date).days / (365 * 24)))  # Convert yield to price\n",
        "        bond_prices[i, j] = bond_price\n",
        "        simulated_yields[i, j] = bond_yield\n",
        "\n",
        "cols = [\"sim_bond_prices\", \"sim_volume\", \"sim_spread\"]\n",
        "sim_df = pd.DataFrame(columns=cols)\n",
        "\n",
        "bond_prices_t = bond_prices.transpose()\n",
        "\n",
        "for i in range(bond_prices_t.shape[0]):\n",
        "  sim_df.loc[i,'sim_bond_prices'] = bond_prices_t[i]\n",
        "\n",
        "print(sim_df)"
      ]
    },
    {
      "cell_type": "markdown",
      "id": "f6b14020-a5df-431b-bd57-e94fcd88205f",
      "metadata": {
        "id": "f6b14020-a5df-431b-bd57-e94fcd88205f"
      },
      "source": [
        "# Simulate Risk Free Rate Yields"
      ]
    },
    {
      "cell_type": "code",
      "execution_count": 82,
      "id": "c0a74444-361a-4c95-9540-e50b6786f9ac",
      "metadata": {
        "id": "c0a74444-361a-4c95-9540-e50b6786f9ac",
        "colab": {
          "base_uri": "https://localhost:8080/"
        },
        "outputId": "2cc9c64a-0aee-43a7-cf95-06d687582979"
      },
      "outputs": [
        {
          "output_type": "stream",
          "name": "stdout",
          "text": [
            "Simulated Yields Risk Free Rate\n"
          ]
        }
      ],
      "source": [
        "T = 1  # Time to maturity, years\n",
        "n_simulations = 1  # Num of sims\n",
        "n_periods = 252 * 12 # Num of hourly periods in a year\n",
        "coupon_rate = 0.04625\n",
        "coupon_frequency = 2\n",
        "\n",
        "simulated_yields_risk_free_rate = np.zeros((n_simulations, n_periods)) #init array\n",
        "\n",
        "for i in range(n_simulations):\n",
        "    dt = T / n_periods\n",
        "    current_date = tbill2Y[\"Bid Time\"][0]\n",
        "    maturity_date = current_date + pd.DateOffset(years=T)\n",
        "\n",
        "    for j in range(1, n_periods):\n",
        "        bond_yield = .0525\n",
        "        gamma = np.sqrt(kappa**2 + 2 * sigma**2)\n",
        "        bond_yield += kappa * (theta - bond_yield) * dt + sigma * np.sqrt(bond_yield) * np.random.normal(0, np.sqrt(dt))  # CIR process\n",
        "        simulated_yields[i, j] = bond_yield\n",
        "\n",
        "print(\"Simulated Yields Risk Free Rate\")"
      ]
    },
    {
      "cell_type": "markdown",
      "id": "d885891c",
      "metadata": {
        "id": "d885891c"
      },
      "source": [
        "# Estimating OU (Ornstein–Uhlenbeck) Process Paramters for Spread Simulation"
      ]
    },
    {
      "cell_type": "code",
      "execution_count": 62,
      "id": "9a18ee26",
      "metadata": {
        "id": "9a18ee26",
        "colab": {
          "base_uri": "https://localhost:8080/"
        },
        "outputId": "535590f4-8aff-4215-84ab-2455e652e2ab"
      },
      "outputs": [
        {
          "output_type": "stream",
          "name": "stdout",
          "text": [
            "OU Likelihood\n"
          ]
        }
      ],
      "source": [
        "# Historical spread data is used from above calculation\n",
        "# Function to calculate the OU likelihood\n",
        "def ou_likelihood(parameters, data):\n",
        "    mean_reversion, vol, initial_spread_min = parameters\n",
        "    dt = 1  # Time step (you can adjust this based on your data frequency)\n",
        "    log_likelihood = 0.0\n",
        "    initial_spread = initial_spread_min\n",
        "\n",
        "    for i in range(1, len(historical_spread)):\n",
        "        spread_diff = historical_spread[i] - initial_spread\n",
        "        log_likelihood += -0.5 * (spread_diff / vol) ** 2\n",
        "        log_likelihood -= 0.5 * np.log(2 * np.pi * vol ** 2 * dt)\n",
        "        initial_spread += mean_reversion * (initial_spread_min - initial_spread) * dt\n",
        "\n",
        "    return -log_likelihood\n",
        "\n",
        "# Initial parameter guesses\n",
        "intial_mean_reversion = 0.1\n",
        "intial_vol = 0.05\n",
        "intial_min_arg = historical_spread[0]\n",
        "\n",
        "# Packing them into parameter tupe\n",
        "initial_parameters = (intial_mean_reversion, intial_vol, intial_min_arg)\n",
        "\n",
        "# Minimize the negative log-likelihood to estimate OU parameters\n",
        "result = minimize(ou_likelihood, initial_parameters, args=(historical_spread,), method='L-BFGS-B')\n",
        "\n",
        "# Extract estimated parameters\n",
        "mean_reversion, volatility, initial_spread = result.x\n",
        "\n",
        "print(\"OU Likelihood\")"
      ]
    },
    {
      "cell_type": "markdown",
      "id": "9f797d6f-e514-4522-acff-95684d509e6a",
      "metadata": {
        "id": "9f797d6f-e514-4522-acff-95684d509e6a"
      },
      "source": [
        "# Simulating Spreads with OU Process"
      ]
    },
    {
      "cell_type": "code",
      "execution_count": 121,
      "id": "d84155fd",
      "metadata": {
        "id": "d84155fd",
        "colab": {
          "base_uri": "https://localhost:8080/"
        },
        "outputId": "4532dc7c-b244-4bfa-c2a3-6156ca5cf65d"
      },
      "outputs": [
        {
          "output_type": "stream",
          "name": "stdout",
          "text": [
            "1\n",
            "0                        [0.0]\n",
            "1       [0.010729871219321539]\n",
            "2       [0.010663801178663265]\n",
            "3       [0.010761236907522658]\n",
            "4       [0.010607005977475851]\n",
            "                 ...          \n",
            "3019    [0.009886427665827091]\n",
            "3020    [0.009824659546069004]\n",
            "3021    [0.009852644546090163]\n",
            "3022    [0.009905729030555916]\n",
            "3023    [0.010053077169002944]\n",
            "Name: sim_spread, Length: 3024, dtype: object\n",
            "Spreads Simulated with OU\n"
          ]
        }
      ],
      "source": [
        "n_simulations = 1  # Num of sims\n",
        "n_periods = 252 * 12 # Num of hourly periods in a year\n",
        "\n",
        "simulated_spreads = np.zeros((n_simulations, n_periods)) #init array\n",
        "\n",
        "for i in range(n_simulations):\n",
        "    spread = initial_spread\n",
        "\n",
        "    for j in range(1, n_periods):\n",
        "        spread += mean_reversion * (initial_spread - spread) * dt + volatility * np.sqrt(dt) * np.random.normal(0, 1)\n",
        "        simulated_spreads[i, j] = spread\n",
        "\n",
        "simulated_spreads_t = simulated_spreads.transpose()\n",
        "\n",
        "for i in range(simulated_spreads_t.shape[0]):\n",
        "     sim_df.loc[i,'sim_spread'] = simulated_spreads_t[i]\n",
        "\n",
        "print(sim_df[\"sim_spread\"])\n",
        "print(\"Spreads Simulated with OU\")"
      ]
    },
    {
      "cell_type": "markdown",
      "id": "c228c9c7-4216-429d-9db0-e0623adc1054",
      "metadata": {
        "id": "c228c9c7-4216-429d-9db0-e0623adc1054"
      },
      "source": [
        "# Simulating Volume with Poisson Process"
      ]
    },
    {
      "cell_type": "code",
      "execution_count": 122,
      "id": "19c3b4fd",
      "metadata": {
        "id": "19c3b4fd",
        "colab": {
          "base_uri": "https://localhost:8080/"
        },
        "outputId": "0165c246-0fd0-4016-a01e-2675231105d9"
      },
      "outputs": [
        {
          "output_type": "stream",
          "name": "stdout",
          "text": [
            "          sim_bond_prices sim_volume              sim_spread\n",
            "0                   [0.0]   44178147                   [0.0]\n",
            "1     [959.7814963891697]   36811650  [0.010729871219321539]\n",
            "2     [999.1389744597064]   36820656  [0.010663801178663265]\n",
            "3     [999.2643864161195]   36823245  [0.010761236907522658]\n",
            "4     [999.3949744787324]   36822686  [0.010607005977475851]\n",
            "...                   ...        ...                     ...\n",
            "3019  [999.3852575188167]   36814294  [0.009886427665827091]\n",
            "3020  [999.2502151855607]   36818576  [0.009824659546069004]\n",
            "3021    [999.28158123175]   36819260  [0.009852644546090163]\n",
            "3022  [999.2347303449036]   36812772  [0.009905729030555916]\n",
            "3023  [999.2094694356964]   44186568  [0.010053077169002944]\n",
            "\n",
            "[3024 rows x 3 columns]\n"
          ]
        }
      ],
      "source": [
        "# Replace with volume data\n",
        "# Calculate the average trading rate (λ) from historical data\n",
        "\n",
        "hourly_periods = 252 * 12 # Hourly Trading Periods\n",
        "\n",
        "# Calculate sums of Hourly Volume\n",
        "total_historical_sum = 0\n",
        "for hourly_volume in hourly_volumes:\n",
        "    total_historical_sum += hourly_volume\n",
        "average_historical_trading_rate = total_historical_sum / len(hourly_volumes)\n",
        "\n",
        "# Simulate trading volume using a Poisson process\n",
        "simulated_hourly_volume = np.random.poisson(average_historical_trading_rate, hourly_periods)\n",
        "\n",
        "# Calculate sums of Hourly Volume\n",
        "total_simulated_sum = 0\n",
        "for hourly_volume in simulated_hourly_volume:\n",
        "    total_simulated_sum += hourly_volume\n",
        "average_simulated_trading_rate = total_simulated_sum / len(simulated_hourly_volume)\n",
        "\n",
        "# Adjust for daily variation (for example, increase trading rate during high-activity hours)\n",
        "# Can customize this adjustment based on your market's characteristics\n",
        "simulated_hourly_volume[0] *= 1.2  # Increase volume during market open\n",
        "simulated_hourly_volume[-1] *= 1.2  # Increase volume during market close\n",
        "\n",
        "# Normalize simulated volume to match historical data\n",
        "np.multiply(simulated_hourly_volume, total_historical_sum / total_simulated_sum)\n",
        "\n",
        "# Create a DataFrame to store the simulated volume data\n",
        "simulated_data = pd.DataFrame({'Hourly_Volume': simulated_hourly_volume})\n",
        "\n",
        "for i in range(simulated_hourly_volume.shape[0]):\n",
        "     sim_df.loc[i,'sim_volume'] = simulated_hourly_volume[i]\n",
        "\n",
        "print(sim_df)"
      ]
    },
    {
      "cell_type": "markdown",
      "id": "475947ec-f2f2-4359-b850-1e95f7c1fd47",
      "metadata": {
        "id": "475947ec-f2f2-4359-b850-1e95f7c1fd47"
      },
      "source": [
        "# Predicted Loss Functions\n",
        "\n"
      ]
    },
    {
      "cell_type": "code",
      "execution_count": 32,
      "id": "05320b80-c81d-4394-a2d8-7dae0751a349",
      "metadata": {
        "id": "05320b80-c81d-4394-a2d8-7dae0751a349"
      },
      "outputs": [],
      "source": [
        "def alpha_t(k, Z, Zl, Zu):\n",
        "        if Zl < Z < Zu:\n",
        "            xi = k * (Z**(1/2) - (Zl)**(1/2))\n",
        "            yi = k * (Z**(-1/2) - Zu**(-1/2))\n",
        "            alpha = xi + yi * Z\n",
        "        elif Z < Zl:\n",
        "            xi = 0\n",
        "            yi = k * ((Zl)**(-1/2) - (Zu)**(-1/2))\n",
        "            alpha = xi + yi * Z\n",
        "        elif Z > Zu:\n",
        "            xi = k * ((Zu)**(1/2) - (Zl)**(1/2))\n",
        "            yi = 0\n",
        "            alpha = xi + yi * Z\n",
        "        return alpha\n",
        "\n",
        "#See denominator or convexity cost\n",
        "def LP_spread_conversion(Z, Zl, Zu):\n",
        "    sigma_u = -2 * (Z**(1/2)) / (Zu**(1/2)) + 2\n",
        "    sigma_l = -2 * (Z**(1/2)) / (Zl**(1/2)) + 2\n",
        "    return sigma_u + sigma_l\n",
        "\n",
        "#Quadratic Variation, needs multiple step ahead forecast, maybe generate 20 forecasts over the short block interval\n",
        "def calc_QV(Z):\n",
        "    log_returns = np.diff(np.log(price_list))\n",
        "    QV = []\n",
        "    for i in range(10, len(log_returns), 10):\n",
        "        QV.append(np.sum(np.diff(log_returns[i-10:i])**2))\n",
        "    QV = pd.Series(QV)\n",
        "    return QV\n",
        "\n",
        "def calculate_conv_cost(alpha_lu, Zl, Zu, Z):\n",
        "    integral = 0\n",
        "    for i in range(len(Z)):\n",
        "      alpha_curr_lu = alpha_lu[i]\n",
        "      spread = LP_spread_conversion(Z[i], Zl_avg[i], Zu_avg[i])\n",
        "      quad_var = calc_QV(Z[:i])\n",
        "      integral += alpha_curr_lu / (2* spread * Z[i]**2) * quad_var\n",
        "\n",
        "    return integral\n",
        "\n",
        "\n",
        "def calculate_opportunity_cost(alpha_0, alpha_d, risk_free_rate_data, dt_values):\n",
        "    opportunity_cost = 0.0\n",
        "\n",
        "    for alpha, r, dt in zip(alpha_d, risk_free_rate_data, dt_values):\n",
        "        opportunity_cost += (alpha_0 - alpha) * r * dt\n",
        "\n",
        "    return opportunity_cost"
      ]
    },
    {
      "cell_type": "markdown",
      "source": [
        "# Calculating Fee Policy Using Forecasting"
      ],
      "metadata": {
        "id": "L0Yam7fToACv"
      },
      "id": "L0Yam7fToACv"
    },
    {
      "cell_type": "code",
      "source": [
        "#NOTE, EDITED USING ROLLING ORIGIN VALIDATION (ROV)\n",
        "\n",
        "# Define the number of initial observations for training\n",
        "training_size = 100\n",
        "# Define the size of the rolling testing window\n",
        "testing_size = 6\n",
        "\n",
        "## potential Z's daily_volumes['Hourly Volume'],\n",
        "Z = bond_prices.T\n",
        "\n",
        "# Initialize the ARIMA-GARCH model, the Z is the name of the list that contains values to train the model\n",
        "arima_model = pm.auto_arima(Z[:training_size], suppress_warnings=True)\n",
        "garch_model = arch.arch_model(Z[:training_size], vol='Garch', p=1, q=1)\n",
        "\n",
        "# Lists to store performance metrics\n",
        "mae_list = []\n",
        "mse_list = []\n",
        "forecasts = []\n",
        "log_returns = []\n",
        "\n",
        "\n",
        "for i in range(2, len(Z)):\n",
        "    previous_price = Z[i - 1]\n",
        "    current_price = Z[i]\n",
        "    log_return = math.log(current_price / previous_price)\n",
        "    log_returns.append(log_return)\n",
        "\n",
        "print(log_returns)\n",
        "# Iterate through the data using ROCV\n",
        "for i in range(training_size, len(Z) - testing_size + 1):\n",
        "\n",
        "    training_data = log_returns[i - training_size:i]\n",
        "    testing_data = log_returns[i:i + testing_size]\n",
        "\n",
        "    # Re-estimate the ARIMA model with new training data\n",
        "    arima_model.fit(training_data)\n",
        "    best_arima_order = arima_model.order\n",
        "\n",
        "\n",
        "    # Re-estimate the GARCH model with new training data\n",
        "\n",
        "    garch_model = arch.arch_model(training_data, vol='Garch', p=best_arima_order[0], q=best_arima_order[1])\n",
        "    res = garch_model.fit(disp='off')\n",
        "\n",
        "\n",
        "    # Forecast the next value using the updated model\n",
        "    forecast = arima_model.predict(n_periods=testing_size)\n",
        "    volatility = res.conditional_volatility[-1]\n",
        "    forecast = forecast * np.sqrt(volatility)\n",
        "    forecast\n",
        "\n",
        "    # Calculate evaluation metrics\n",
        "    mae = mean_absolute_error(testing_data, forecast)\n",
        "    mse = mean_squared_error(testing_data, forecast)\n",
        "\n",
        "    mae_list.append(mae)\n",
        "    mse_list.append(mse)\n",
        "\n",
        "# Calculate the average or other statistics for the performance metrics\n",
        "average_mae = np.mean(mae_list)\n",
        "average_mse = np.mean(mse_list)\n",
        "\n",
        "\n",
        "#Start at observation 100\n",
        "#Iterate through entire list after item 100, at each step\n"
      ],
      "metadata": {
        "id": "D7EfbP3roV8-",
        "colab": {
          "base_uri": "https://localhost:8080/",
          "height": 437
        },
        "outputId": "ffec8ca7-f823-4b69-b9e3-0763aeebcfd5"
      },
      "id": "D7EfbP3roV8-",
      "execution_count": 145,
      "outputs": [
        {
          "output_type": "stream",
          "name": "stdout",
          "text": [
            "[0.040188231919119397, 0.0001255121553865313, 0.00013067565724690148, -3.710774663254726e-05, 0.00011078658423706986, -1.4084515329523548e-06, -0.0001033296826553702, -0.00015735734222418967, 2.042302709334316e-06, 2.5969338049853957e-05, 6.189944908060991e-05, -2.0786483854000198e-05, -3.298252923728419e-05, 0.00021367060964371304, -0.00028340646318026665, 0.00016297908483004484, -5.80190624992488e-06, 6.300523701271697e-05, -2.4081654874220595e-05, 4.528332612918239e-05, -3.8486674095966564e-05, 0.0002049877171887462, -0.00021622997986133773, 3.362306360984353e-05, 3.652410475761684e-05, -3.5725713472385794e-05, -0.00014896064329439013, 8.010239991847564e-05, -6.473093399248336e-05, -6.172515365712154e-05, 0.00020478340020590191, -0.0001704327950717179, 0.00013184901448911644, -4.291489381096385e-06, -5.944329876105781e-05, 7.101704674169438e-05, 0.00012696454133610154, -0.00013327953812131588, 9.251585412613735e-05, -0.0001701752005211814, 0.0001204798583604303, -5.977593621396767e-05, -4.962479987374796e-05, 8.77736838474266e-05, -0.00011577582915731018, 9.709601655404058e-05, -2.579658346628481e-05, -8.336952516530371e-05, -1.815462378829813e-05, 0.0002534108629389428, -0.00020078583695217075, -0.00018369132312079058, 0.00014234240879817028, 0.0002811038668226677, -0.00021454169203116122, -9.16292659564095e-05, 0.0001526081157944546, 1.1184305319494042e-05, -0.0002000657250747469, 0.00018685248934444235, -0.00012834942089368401, 0.00011454776619655962, 2.122961071289483e-05, -8.38373564434201e-05, 8.417099967338815e-05, -0.0001063915825520753, 9.309269487737348e-05, -0.0001644839831296036, 5.426608504932031e-05, 4.918567992640488e-05, 0.00024228761891729032, -3.5082943923729965e-05, -4.6673348202436094e-05, -0.00023113770232839216, 0.00010566879586479512, 8.758482396786832e-05, -0.00032459562563645015, 0.0002475785924815949, -3.265078522676284e-05, 0.00018438150224087314, -0.0002982451410882241, 0.0002824619022699942, -0.00018230036642558994, 5.6196945625470684e-05, -0.0001593097893346602, 0.00013431127244506306, 0.00016632307977747452, -0.00031296039728775476, -8.344771284776569e-06, 0.00034206988754989466, -0.00013161285108129685, 1.0979185002795174e-05, -0.00018034680567423594, 0.0001611188933116193, -2.0173865691255847e-05, 5.583653417835153e-05, 1.582063235808331e-05, -0.00021456678938482944, 0.00010152822352096574, 1.5571898569418282e-05, -1.0279273625104141e-05, 1.6553471077264e-05, -2.13618947743581e-05, 7.868309378730098e-05, -0.00016701035253685698, -4.026397502313173e-05, 0.0003680139488606979, -0.00011027494634624478, -0.00023133827420995662, 7.889782152241901e-05, 0.00012518977707666554, -0.00017907094679173635, 0.00010310572702713707, 0.00015589639456974942, -0.00023638677628716557, 8.476266736340007e-05, 6.314195708094257e-05, -0.0001566172472234703, 0.00025872354079304005, -0.00021483942253404913, 5.265493620058486e-05, -0.00013700844529545116, 0.00022994499771842726, -5.9454320585694225e-05, -4.45736859237533e-05, -4.719336148256764e-05, 0.00010777831993974421, 4.858046907437159e-05, -0.00017244385830463487, 0.00020431169129970134, -7.339512014010575e-05, -2.899410439736958e-05, -5.264478736039782e-06, -0.00016053486349496994, 8.40166185471558e-05, -9.870104883357753e-06, -1.7272032022696942e-06, 0.00016134128632049668, 3.9021004306125265e-05, -0.00024346345646531598, 0.00015837752039522923, -1.290135094453512e-05, -0.00013838218731793017, 5.6616195929443454e-05, 5.619226969680597e-05, -3.669850190267654e-05, -8.443540315052624e-05, 9.753317927009613e-05, -0.00015429685987425028, 0.00014848235144897227, 0.00013211705584512478, -0.0001848897014203203, -0.00013068681332028046, -6.505880888145053e-06, -1.1540614093263143e-05, 0.00014281736437115036, 0.00017313248930237961, -0.0001745825533330534, 4.2794123787668305e-05, -9.663126866550145e-06, 1.057237212155806e-05, 2.6082862960535582e-05, 8.352859092948882e-05, -0.00010551643034423365, 3.899715173898849e-05, -7.605361920125427e-05, 0.00034819302565095424, -0.0002717175850511389, 3.6537229550797146e-05, -1.5718141324876854e-05, 6.881379965717495e-06, 1.283781338313029e-05, 4.235858207754318e-06, -5.3597639541478046e-05, -0.0002260884927463085, 2.546720861022448e-05, 0.00010749271163724614, 7.705207544269564e-05, -3.28420779038555e-05, -6.290658202214448e-05, 0.00017191411543453406, -9.523715062616207e-06, 8.619425437647084e-05, -0.00011733108517917352, 0.00012658971680222847, -0.0001230460427485778, -9.813074016610508e-05, 0.000209576726729447, -0.00015417743326120737, -0.00018416037662651705, 0.00010620049326146749, 7.62235488470351e-06, 0.0002859673826981637, -0.00019310704056814783, 1.8453932098480754e-05, 1.6695809451669767e-05, -0.00020564050639421846, 7.828860478584533e-05, 0.00013786907389375019, -3.7712955734375485e-05, -6.25223299362027e-05, -2.3533349143325782e-05, 0.00012166050139277082, -0.00014400896164585664, -8.642056444405396e-05, 0.00011743919536530309, 0.00010907284166595215, -9.833480993779829e-05, -8.063022527345193e-05, -1.2514846315374412e-05, 0.00013913176811390548, 5.520555835996906e-05, -0.00017659638744015738, 0.00026197090260443183, -0.00010691377122499711, 4.381719118101959e-05, 4.949550902302575e-05, -8.369604899151544e-05, 1.4952908580168586e-05, -3.742805137579799e-05, -8.421025886045905e-05, 2.3430406271932733e-05, 5.888622675684681e-05, -5.7510856520170114e-05, -4.546981916388664e-05, 1.7325090443089803e-05, 3.998236621321886e-05, -2.6073599292535904e-05, 1.5829973925428193e-05, 7.322654958117855e-05, -5.48582627598003e-05, -1.2727630236696236e-05, -4.3620051292812756e-05, 2.488534682493173e-05, 2.4932564971658542e-05, 1.59917426736439e-05, 3.369085260304976e-05, -7.814717590441844e-05, -7.061189369098037e-05, -6.867291024040429e-05, 0.00015824685746958038, 7.410401845232621e-05, -0.00010378377602388029, -0.0001279875410467673, -4.07711733815801e-05, 0.0001509951620189532, 0.00011116983788980512, -1.027360753057035e-05, 4.517339795036153e-05, -0.00016502425762761325, 4.157957582348752e-05, -5.8619996216016766e-05, 0.00019704142603062935, -1.583519484071187e-05, -2.0132010306811194e-05, 2.038287799611245e-05, 0.0002331838581847476, -0.0003322359093076165, -6.878766562602903e-05, -2.6235491867329065e-05, 0.00017005950078744975, -6.542594846495667e-05, -5.186261525219538e-05, 0.0002832448007170206, -0.0002391565896031702, -4.3825113262587577e-05, -5.6856742029995194e-05, 0.00024539853156157343, -0.0001414562240037352, 0.00012715141421108358, -0.0001986596925446256, -9.882547664658436e-05, 0.00015107061998621512, 0.00029632211229951134, -0.0001611875797422916, -0.0001444567176632404, -4.9518786110725095e-05, 3.807628123531191e-05, 5.459485155984114e-05, -1.6712401559097004e-05, -3.875000237938865e-06, -5.042611389404783e-05, 5.4611085366548285e-05, -1.773720053714551e-05, 9.19950706877531e-05, -3.75604272118547e-05, 2.8982184266542124e-05, -5.124884040064618e-06, 8.163498082224972e-05, 1.502115482032023e-06, -0.00014601314537834861, -4.7946477110216154e-05, 3.6922759622559194e-05, -8.08861125676014e-05, 0.00017868600774589114, 7.131079759474065e-05, -0.00014314358997334438, 2.6306200889697196e-05, 0.00015265086023222082, 2.6376536753691986e-05, -0.00034469555865559125, 0.00019342499726427716, -2.9780396183814575e-05, -2.453162058157294e-05, 8.673864156599274e-05, 6.451337660622666e-05, -8.385625144791215e-05, -0.00016754431359278127, 0.00019212309206157878, 1.5350345282153225e-05, -0.00010066898330495339, 7.851738668703059e-05, -8.923062646151504e-05, -0.00015533738543673886, 0.000311488634241099, 0.00012098569889137324, -0.0003391373571223571, 7.146624346481491e-05, -6.3334855182267945e-06, -2.6650411564928528e-05, -0.00017628064677541823, 0.00012248467821597949, -6.798410823366634e-06, 0.00015354971663994856, -2.272666212009392e-05, -5.27062163644807e-05, 1.7930486835676172e-05, 9.382764579004021e-05, -4.0391942006479365e-05, 8.891687823216696e-05, -1.1257730054531254e-05, -1.3773224583141513e-05, -0.00012140910942626327, 0.00014760121858900893, -6.813646475999584e-05, -6.297222393246694e-05, 0.0001232261638988279, 0.00013762071088027758, -0.00027907366317349563, 0.0001425547074726016, -0.00037239911269288474, 6.504881195976728e-05, 0.0003001382544942881, -0.0001711445612840372, 5.938113756101084e-05, 9.421976832222175e-05, -0.00014259885874377874, -0.00015001905414298354, 0.00022519734570005192, -0.00011271749655988155, -1.1611285031652882e-05, 0.00013736294166247806, 4.779479066677201e-05, -5.710465476536244e-05, -6.1015061021114496e-05, -0.00018176057198531455, 0.00013664229230976732, -4.993937561790898e-05, 7.059214544297834e-05, -4.733906349492886e-05, -7.17838049798806e-05, 8.758294619209066e-05, -4.599147295191744e-06, 9.833534246407688e-06, 9.70021202515047e-07, 8.547845942395616e-05, -8.015907058563573e-06, 0.00014703228215147076, -3.1595374525497857e-06, -0.00010902585500647328, -0.0001407147176818796, 0.0003021260983825387, -0.00025795511825645165, 7.534606594713671e-06, 0.0001447910002204677, -0.00011909600260218717, -3.013529065761921e-05, 0.00015372749615486777, -0.00010120845297784959, 4.308346050383585e-05, -0.00012063032138936917, 0.0001537471052441505, -0.0001073334069079621, 9.42634238499851e-05, -0.0002222927884570384, 6.668110311567588e-05, 0.00018621420366182984, -0.00023784559663670747, 9.349704774946129e-05, -4.59108333039422e-05, 5.029228989885015e-06, 0.00021989763902534022, -0.000148739626049794, 0.0001566613804582602, -0.000160688775283124, -8.679023233025704e-05, 3.268920282297098e-05, 0.00025322383518515976, -0.000190931671328292, 2.7822270337041637e-05, -1.0175555745099649e-05, 3.189388989807413e-05, 2.547135210126837e-05, 1.5609409396572005e-05, -3.873205691261395e-05, -0.00011768802264451657, 0.0001339192873376855, -0.0001356413362878751, 0.00011061448558544799, -7.295726084306472e-05, 0.00019329308024452276, -0.0002689682033919871, 4.283106112395373e-05, 0.0001465354388661153, -0.00015272818112705778, 4.97401708486659e-05, -5.519224010558423e-06, -7.060474530486477e-05, 0.00016564369975371674, -3.90150871884815e-05, -7.942745808462108e-05, -4.539918357683143e-05, 8.216828963354656e-05, -5.487757084758625e-05, 2.8932025993517262e-05, 0.00013828062045363832, -0.00021352208550167202, 0.00032943238497158304, -7.084714618614855e-05, -0.00022148583302520648, 2.4573968961072714e-05, 7.570910236366716e-05, -9.350834204948917e-05, 0.00013314696942525416, 6.703688525236813e-05, -0.00014559184907246607, 3.5742379692747754e-05, -7.233599002380638e-05, 2.3980553215405232e-05, 0.00018489057865128599, -9.542880359408888e-05, -2.6818025121060583e-05, 7.547274288527646e-05, -0.0003521625993260631, 4.770315319502762e-05, 0.0002812354947610632, 8.019017623135033e-06, -5.837595745604145e-05, 2.7001960367151114e-05, -1.5014752744460899e-05, 5.717226569097792e-05, -0.00019051477441636212, 0.00020387399505925622, -0.00015306300809747673, -6.554494477008246e-06, -4.867252556326766e-05, 8.801674009793242e-05, 0.00019825620824914697, -0.00023588919867697047, -4.667599832190504e-05, 0.0001535167581697638, 9.785371310804442e-05, -0.00015332228261434258, -1.5953606068656305e-05, -4.23492252763198e-05, 4.6417266844208256e-05, 0.0002945208981988961, -0.00032313420209799403, -1.8910741912164926e-05, 4.6099363321375976e-05, 0.00022858886063001224, 1.4060015692927232e-06, -0.00020849373019410264, 4.0803634719048197e-05, -5.922323883606618e-05, -9.423033222712343e-05, 0.0002110731045287025, -0.00014744259813944522, 0.00010461829149877204, -0.00013924540979892393, 4.0136409140695465e-06, 6.829139871601519e-05, 8.74028801145065e-05, -0.00012304715649526105, 0.000266757594797768, -0.0002014277791058199, -6.660020626599145e-05, 0.00010292156836005252, 7.176680491516473e-05, -3.571639809523414e-05, 1.144123619113075e-05, -8.068143441194547e-05, 6.335072753447533e-05, -0.00020166385877387792, 0.0001226348414364634, -7.138949053678771e-05, 0.0001158678324986957, -7.213385402166173e-05, -6.912589088005301e-05, 9.907437369274665e-05, 1.0835070047527429e-05, 6.380707993271718e-05, -4.5026030037516276e-05, -8.099120686973611e-05, 5.922468617110975e-05, 2.8531616278772452e-06, -2.8707455457687927e-05, -0.00010978803591699315, 0.00026868200172548847, -0.00021426183484441377, 8.188041671582349e-05, -3.8541082595124095e-05, -0.0001460004552670864, 6.311633954896011e-05, 3.724448458740291e-05, -1.6324666229808292e-05, 0.0001320471920545657, -0.00010472069020366255, -0.0001474544446263631, 0.00014176414211252632, -9.570340406727474e-07, 9.64158994639335e-05, 7.037843262461583e-05, -0.0003221128243857245, 0.0002245036334362851, -0.00014175565678390192, 0.0002516448784534657, -0.00010154564222745396, -4.499714344993019e-05, -8.197181885097916e-05, 4.322422586453585e-05, 1.4834291312598671e-06, 0.0001175930590247947, -0.00019113640859609967, 0.0001337486846468314, 2.9347082548228885e-05, -6.586701642521534e-05, 6.125972200028469e-06, -7.079972144421979e-05, 9.511899627061897e-05, -2.8527126083995535e-05, 0.00014569984364445204, -9.243542102649082e-05, -3.9425024518761996e-05, 5.6296033915282635e-05, 2.2651424741219942e-05, -0.00012496776604864284, -0.00012757216012972936, 9.325308448746368e-05, -1.3971165701818602e-06, 0.00019129353354720898, -0.00011047707154576465, -0.00011819183220798286, 0.0001646067383536768, 1.5457008253168837e-05, -0.0002947733636529439, 0.0002518338653496611, 2.742146857272247e-05, -0.00011995712888988701, 0.0002895433367750967, -0.0001730768687287376, 0.0001547833676647631, -0.00011401666636527657, -0.00017238311525309534, 0.0002080400106644307, -0.00012946760781433852, -0.00026674889136273777, 0.0003191021691780362, -1.041141582021109e-05, -9.42557626528891e-05, 0.0002703184699726655, -0.000338163409819752, 5.729484237646758e-05, 8.14902120142886e-05, 5.3386604120067516e-05, 1.8944407552048655e-05, -0.00014917420900551026, 0.00010066949913215342, 3.533375592394413e-05, 9.643855905816822e-05, 6.479171001275116e-06, -0.0002684463667029385, 0.00029240063615600624, -6.77300950300681e-05, -0.00012995823711626174, 4.084565698332066e-05, 1.8376939687696604e-05, -8.233533231745489e-05, 1.6525713218060883e-05, 0.0002563498368568288, -0.00042662356354697704, 0.0001886386561611169, -4.773124345013191e-05, 6.719432910586264e-06, -0.00012358231200988482, 7.179706352117103e-05, 0.00022789980560498137, -0.000153015537934511, -4.105451376025794e-05, -0.00010896469388783961, 0.0003006695524562674, -0.000127520499608464, -4.0941982682406794e-05, 8.271603911368164e-05, -2.7495529273137518e-05, -0.00018889812548291841, 0.00044863171877436084, -0.0002465252088935288, -0.00010301038303482383, 8.633579429224257e-05, -0.00011118649837806516, 0.000122271629179012, -2.391080037635505e-05, 1.3776542532077015e-05, -0.00018441753733233136, 0.00016034300351161327, -8.34967544009666e-05, 7.149226828754444e-05, 4.530175453085356e-05, -6.750324364215191e-05, -3.166915942442757e-05, 9.618346347274799e-06, 0.00018477032672692037, -6.727680087493948e-05, 0.00011328246616856517, -0.00015267977785528048, -7.446144379631992e-05, -5.448017077400777e-05, -2.382564549933037e-05, -1.5072728868897712e-05, 0.0002174953336486611, 7.814164684674387e-06, -9.248619837038417e-05, -0.00012078389850473067, 0.00013363942714596946, -7.942949572364818e-05, 9.528345933232145e-05, -1.342928149170002e-05, -5.3850948277928716e-05, 0.0001621364718826275, -0.00016382939056879458, 0.00012472539903003353, -0.00016918655152495924, 2.8110490793471765e-06, 7.8083417986714e-05, 8.94952085558886e-05, -1.6314669816177445e-05, -4.9814112239112625e-05, -8.411377604204889e-05, 2.6199104996100558e-06, 0.0001190938186468389, -4.888164453375409e-05, -1.3362169685085783e-05, -0.00010629192944777432, 0.00011384210281885406, 8.664761232588924e-05, 6.297069028196722e-05, -9.973784828722002e-05, -4.659787137556183e-05, 8.688049876236785e-05, -4.1233460287943e-05, -7.068307679124616e-06, 0.0001680378207533315, -0.00014308060263307427, -8.160211797262693e-05, -0.0001111126789725955, 0.00023210744448501274, -7.875433804465595e-05, 7.094220386144769e-05, -0.00027809778612600277, 0.0001717212163677545, 8.081747920690404e-05, -0.00011575150547402124, 0.0003082365360806666, -0.00012118800396872169, -0.00012530594704751182, -3.416133198737243e-05, -0.00011174577256488276, 0.0001304425214949703, -0.00010629377588640831, 0.000150282448751688, -1.961079194615162e-05, -3.270443841406543e-05, -0.00013113144027478605, 1.2669762714093896e-05, 0.00026427630581720503, -8.197471232325276e-05, 5.481387968925933e-07, -5.431380418633436e-05, 1.36651241100199e-05, -0.00011018977095909166, 0.0002202596332322575, -0.00026810603170075356, 6.539667587901952e-05, 7.457690292136453e-05, -0.00011404393537535213, 0.00018433080453738785, -5.74365150841917e-05, -6.368364704923e-05, 0.0001367099696942157, 9.122862059387692e-05, -0.00018640858134360747, -2.2603747674505408e-05, -4.3046338690462124e-05, 8.373661406471212e-05, 3.771478405502351e-05, -1.3981255524688033e-05, 0.00010644436936449168, -0.0001253503699980475, -0.00010115985047500607, 3.6454768651754395e-05, 0.00015079649792715775, -2.229622836912435e-05, 5.387363199180933e-05, -5.7791392828280446e-05, -0.00020446485126685463, 8.396654733596856e-05, 4.184597986385279e-05, -9.927070847044647e-05, 0.000233566410217936, 4.6762054059354626e-05, -3.2150050432624875e-05, -0.0003064069731493631, 0.0001388256969895997, 6.23793096057997e-05, -9.137140701401566e-05, -6.559700999987373e-05, 0.0002457661669340877, -9.572070980946972e-05, 8.885400988532689e-05, -0.00010096188859581451, -0.0001306931981336693, 0.00017967393968483405, 5.803380085868419e-05, -0.0001071356530446985, 0.00013425046224802286, -0.00020234924063929885, -1.8912988768502856e-05, -7.410139950871283e-05, 0.00019014156889435112, -6.737851896946441e-05, 0.000169901812628577, -7.755266813691195e-05, -0.00011456238087141272, 5.576119194894277e-05, -1.239303396403195e-05, 0.00013467632855049055, -3.5896007676132906e-06, -0.00014662883806996715, 0.00012650120227707733, 3.27439522210888e-05, -0.00012320286066105264, -0.00010670310577204844, 0.00021257950737389579, -0.00017599277223073872, 9.379327656661482e-06, -0.0001343493558569345, 0.00029232106421470344, 4.125320415984876e-06, -0.00011826502528183025, -0.00017232857188702793, 9.686888630954332e-05, 2.828930791721138e-05, 3.479715655004821e-05, 0.00018808598777682347, -0.00017886527732707635, -0.00011679705669839938, 2.6702355547110653e-05, 0.00010850859255158627, -0.00011934267255369402, 2.036512145216437e-05, 4.5586097120054004e-05, 0.0002198532550946263, -2.19090810043342e-05, -7.052679460866573e-05, -5.4560026224906056e-05, 8.163734088573843e-08, -9.204653037112026e-05, -0.00019229014082568232, 0.00019555422816368363, 2.8175281401277223e-05, 0.00011766471854686435, -2.3956347485958575e-05, -5.0744302678926215e-05, 4.6927108781847604e-05, -0.00012633296405256756, 0.00022027605116030827, -0.00023200766969846878, 6.786751514525831e-06, 0.00014525802050021334, 0.00016843567761035865, -0.00018010258009520068, 0.00014041941899243596, -0.00015499516761286348, 8.184920613112616e-05, 5.509456006182237e-05, -0.00013683235865713777, -5.048866183843357e-05, -0.0001084050385796662, -0.00015259311928546694, 0.0002039343077134787, 0.0001777868218838381, 1.3730974458222915e-05, -0.00015751928385993933, 7.809511896663364e-05, -7.943277028468144e-05, -2.3233328828394306e-05, 2.3562473661103018e-05, 7.30048768638687e-05, -7.492848383121724e-05, -6.023752904981362e-05, 0.0002918964268153353, 0.00013378750308301626, -0.00022067441733969822, -2.233554219810927e-05, 0.0001463965448293047, -0.00019903858600719634, 1.870156303675448e-05, -0.0002030663029369115, 2.3738552494215175e-05, 0.00011381314825276293, 1.764538963344544e-05, 1.2526520567100965e-05, 9.448731682426298e-05, -0.00011944588794704194, 3.7510897418477295e-06, 0.00010969303654224579, -0.00011055957547044176, 6.663304795126955e-05, -0.00011697782414707509, -4.744756768559273e-05, 0.000169541993705554, -9.58038477498008e-05, 0.00018455475890304161, 2.981963905095831e-05, -0.0002950432518695858, 0.00014966553637271653, 0.00018769796258661644, -0.00011451944878295155, -7.320718525353913e-05, 7.314629968345666e-05, -0.00012331685932805863, -2.7792806553817015e-05, -0.00011698002158477358, 0.0001544689904341113, -1.767547981134704e-05, 0.00010404078194945755, -0.00012015290034500112, 0.00017334721830369047, -0.00015906220412828306, 4.428326340826323e-08, 9.721479521272395e-05, -0.00017452289441819856, 9.386285400057686e-05, 3.3325196309121455e-05, 0.00012562713489516406, -0.00022551940192661336, 8.548258091485826e-07, 0.0002604434578066413, -8.060271274299475e-05, -1.3915267117462821e-05, -2.9440041045839043e-05, -1.0222583171847421e-05, -9.526416486257543e-05, 9.258662795494126e-06, -8.594210123986138e-05, 0.00020248025997187188, -0.00012311172477654485, -0.00014679604141154917, 0.0002227185834272272, -0.00010714346665645004, -8.407940392002032e-05, 8.48961612551486e-05, 5.047696869638776e-05, 4.77027840050364e-06, 0.00013909856744886493, 3.219943661470419e-05, -0.00020785407731830922, -3.715192932516312e-05, 0.0001676086636248099, -7.795037629870708e-05, 2.367637550591248e-05, 8.354032017022481e-05, -0.00015111302716002602, -4.707576676885573e-05, 2.277154810186281e-05, 0.0001466370991461836, -0.00014782565642329517, 0.0002639503626273937, -0.00025555192423706, 8.781350664956748e-05, 4.714384179396129e-05, -2.1277323658912357e-05, 4.013897314682825e-05, -0.00014371373973866438, 7.700448892543892e-05, 7.946537194002716e-05, -0.00012586117390320803, -1.2080274511195116e-05, 0.00014169276074950827, 5.51306357472802e-05, -6.108994613122387e-05, -0.00010210113000634936, 6.922741061735073e-05, -0.00013683905966649322, 7.151424441578371e-05, 4.052945833840147e-05, -3.302985471363498e-05, -0.00012178144594559214, 0.0002505850133505395, -0.0001434411899495391, 3.3495488396278725e-05, -0.0001671806472884712, 9.849932277025107e-05, 8.648272168834478e-05, -2.849156163611543e-05, -0.0001025072219059041, 0.000239953159072574, -0.0003433894259265795, 0.00012085627158133668, 6.879293023204417e-05, 7.216336280662233e-05, -6.033593091758319e-05, 7.170285560587712e-05, 0.00012672995263270637, -0.0003885368831621464, 9.558476464517488e-05, 0.0001819301590254474, -5.30309236709456e-05, -0.000193995438821809, 0.00034882015667249075, -0.00011378950693285144, -9.152814257334375e-05, 9.680849387999364e-05, -0.00020848724365292006, 0.00012760683758633958, -3.770050503472901e-05, -8.587947398449478e-05, -3.740059375162384e-05, 0.00020516525445183625, 7.087655218544955e-05, -0.00014073452108676626, 5.757806144186733e-05, -0.00010703821186388727, 7.757155013452608e-05, 1.9077830143346897e-05, -8.215548010953121e-05, 8.572357649508732e-05, 3.037594986855155e-05, -1.810919343154219e-05, -0.00010749916370806855, 0.00027782111072927496, -0.00011642786814675745, -0.0003607381925486188, 0.0002493904861698697, 2.36602449686546e-05, -2.2155993099606575e-05, -7.01893902909029e-05, 8.393412748755241e-06, -6.0597970483890674e-05, 3.127811461860812e-05, -3.867787125265285e-05, 0.00023235939756010882, -3.988104211592107e-05, -0.00023601058565954407, 0.00016113172918908546, 3.978844532571454e-05, 9.489595345886938e-05, -1.2967329225813435e-06, -1.5377113074524274e-05, -8.693117188577094e-06, -0.00010047820522855295, -2.3054302994296445e-05, 8.578693129512963e-05, -8.446352272856365e-05, -0.00010224227120762148, 0.0002685255947357821, -0.00011017313118643879, -2.9703544509868375e-06, 0.00017594755406248573, -0.00022217984160687547, 0.0001366103751578002, -0.00017902634397754812, 0.0001018506030715415, -0.00018990903117602055, -6.164159778837027e-05, 0.00015172521239200767, 8.183730427364355e-05, -3.0387884301836966e-05, -9.277889966746104e-05, -1.4469064583720114e-05, 0.00024115759111454358, -0.0001614368674711637, 6.875828651056135e-05, -0.0001382721183512259, 0.00024127103951908604, 0.00012752970432193138, -0.0001853884967752884, -2.839494041404464e-05, -8.24184915352304e-05, 1.4652659097008863e-05, -3.635513429850846e-05, 0.00012920160477173777, -0.00014450669564792756, 7.526702549870065e-05, 1.1841179758039755e-05, 3.109771653985026e-05, 0.00012978567163693231, -0.0002006258591778752, 8.597247632404317e-05, 3.167153711018807e-05, -4.455412802464336e-05, 5.619361148891061e-05, -0.00011912708998723895, -1.4885497545892782e-05, -1.4896184407328818e-05, 8.146773896615317e-05, -8.664257705154274e-05, 4.2667281650268907e-05, -0.0001368374011761484, -6.247713715486656e-05, 0.00029167851100008347, -0.0002307557217450296, 0.0001362400351647017, 8.749874068827233e-05, -8.918786648249087e-05, 0.0001280644250031204, -0.00019263635608574126, 0.0001512747062885676, 0.0003012498678848477, -0.0002670331012675153, 9.478870625839859e-06, -4.786501010486421e-05, -4.295580026165045e-05, 1.157914798555615e-05, -2.0126837687385427e-05, -5.333586407506915e-05, 0.0002106745588081251, 0.00010896052726455659, -0.00035670163366570277, 0.0001930326378029325, -4.934857740458575e-05, -5.254985514948888e-05, -3.8165698101237684e-05, -0.00012422624850781726, 0.00020437191735515154, -4.5993180183423945e-05, 6.254209074316113e-05, -0.00011133751669935361, 0.00014451430422407615, -6.172843889769999e-05, -0.0002086264606718028, 0.0002708452397994175, -3.158503314084306e-05, 0.00015279674556612367, -0.00011085052895252823, -0.0003159705256957321, 0.00020369419358505134, -0.00014055612990719276, 8.800439330080232e-05, 5.844196335492587e-05, 0.0001631476354459625, -0.00014100101205231984, -0.00013637663402808338, 0.00012701823049127581, 0.00022768827416270275, -0.00015738655541992736, -0.0001323691260160393, 6.942242024371099e-05, -9.871662340462291e-06, 2.271224272595242e-05, -0.00018629052053879437, 3.234176937455023e-06, 0.0003220023740975183, -9.476085312806226e-05, 1.5719230666984506e-05, -0.00012557752991298148, -2.5812896629853375e-06, 1.3617335643699568e-05, -2.2661133389932423e-05, -9.960327490427339e-05, 0.00016648171643245287, -0.00017504874293194366, 0.00010230775452221232, 0.00019867261516760254, -0.0002207651533760961, 8.00000692382354e-05, -4.1430863987142865e-05, -0.0003053117376460174, 0.00032483156923970104, 0.0001716841092347591, -0.00026905495848974603, 0.0001775222434637764, -3.15371565911194e-05, 0.00011715049501426036, -0.00015022364660435836, 0.0002798309856109651, -0.0003490846527601562, 0.0001609625622251603, -0.0001757930557462213, -7.528840100017584e-07, 0.00010229851421825141, 0.00016042541343983237, -0.0002044549115789856, -7.835296300070763e-06, -3.081306150633477e-05, 8.462428258381961e-06, 4.845121476783032e-05, -5.81946225020157e-05, 4.368539121035113e-05, -0.00014566194319365076, 0.00016106492688461302, -8.482087934911284e-05, 0.00012038936659761777, 0.00014643367236734725, -7.34035007615705e-05, -0.0002252662849864793, 1.3503553971123869e-05, 0.00010973411301286079, -3.6525261581087926e-05, -4.080662493987076e-05, 0.00033109406061351116, -0.00020722237125188485, 0.00011401898358838308, -0.00019418991461602194, 7.054423352841137e-06, -6.420857907666011e-05, -8.850053209461267e-05, 3.761004433632803e-05, 0.00022145465326107723, -0.0001164319232069699, -0.0002117182649743231, 0.00027826235729572397, -3.208105046206754e-05, -6.980211095346139e-06, -0.0001070516470066784, 5.634196549819013e-05, -2.9181839382379288e-05, -3.7106956737397484e-05, 0.00012774915586178447, -6.814336889106989e-05, 0.00014344521089090052, -0.00021936487970871077, 0.0002128430294020731, -0.00024250777887348916, -5.6273722706550354e-05, 0.0002044073776305044, -2.739368771771885e-07, 1.6164862602979002e-05, -9.259077507454092e-06, -8.280548437448849e-06, 0.0001788272225093614, -9.34449685267642e-05, -0.0001642243176691898, -5.9429560556416304e-05, 0.0001773047436266676, -7.655430743394888e-05, 4.044914288469749e-05, -2.1133553873061543e-05, -5.699378180234578e-05, 0.00033447268108089437, -0.0002962088898861344, -0.00017999419040828975, 0.00036585529217356177, -0.0001501015232477253, -4.421776289534385e-06, 4.4768745325803824e-05, 8.319365584508407e-06, -1.2994850599712445e-05, -0.00014006920495790489, -8.180632903614579e-05, 0.00011462616451105163, 0.0001847099068939334, -2.1193941180579834e-05, 1.331842098766591e-05, -0.0002313809836694862, 7.779251336718878e-05, 7.596723172020844e-05, -1.9688783529627486e-05, 3.1685811943815404e-05, 6.31790179343785e-05, 1.4092136052702605e-05, -0.0001240977911477755, -7.232442347528207e-05, 0.00024078289493819933, -0.000329251150568728, 0.00013182369878533658, 0.00015941949368971321, -0.00017044616974051327, 0.0002085278211499381, -0.0002249280206283908, 0.0001173676137233894, -4.839214435235413e-05, 0.00013564200462727545, -0.00016285597968038345, 0.00014665623096335787, -9.350224240136809e-05, -3.0324346613899485e-05, 3.125121567311949e-06, -8.567208823278245e-05, 9.838110177750456e-05, 8.081736640692522e-05, 0.00011666254491234181, -0.00030092321419479046, 4.177760001994058e-05, 8.213598582553238e-05, -5.5143756304167185e-05, 8.825140475600754e-05, -7.090616564821043e-05, 9.182663820033157e-05, -1.2820524857609844e-05, -0.0001948300129370138, 0.00016063676206409984, -8.44687936613622e-05, 0.0001457591932604669, -1.6817518493707565e-05, -8.64902769065185e-07, -0.00012897068758810658, -2.1252260835941217e-05, 9.839582722805568e-06, 0.00013211840521242405, 3.771354946053003e-05, -0.00020187129347181337, -4.8743153554750015e-05, 0.00011390774542941522, 0.00014526963943740828, -0.0001128063219372788, -2.2571458159303645e-05, 0.0002462738936962482, -0.0001580949337378402, -0.0002128216028243286, 0.00013770197099859395, 4.270003281052088e-05, -0.00013605443135996872, 0.00023681786211402617, -0.00027864255695313954, 0.0002464761627006437, -0.00020467262646097425, 6.852682814568025e-05, 0.00011580847927384935, -0.00013769249929684456, -8.265087802355645e-05, 0.00020077629617014877, -0.00020859179235087488, 0.00034814797863016333, -0.00040023416703005284, 7.890667604541672e-05, 0.00021189705491691003, -1.677714697191134e-05, -1.8336748067425508e-06, -4.9434674321722444e-05, 6.675687301474949e-05, 7.731528081599822e-05, -0.00012031822787029103, -0.00011943673518002555, 4.838070179691254e-05, 0.00011128105310740593, -0.0002887592809869517, 4.198483912615402e-05, 0.00023427936973465562, -0.00012706800331877642, 2.3042492523810958e-07, 0.00016248199660064082, -3.942683844534248e-05, -0.0002867726692822403, 7.6721598947566e-05, 0.00025067872695606484, -3.850779584230434e-05, -0.00020569147289373196, 0.0001746982097235835, 1.6574645162754094e-06, -0.00010188554595546815, 0.00023767703749599914, -0.00015942106962064844, 7.740288570018374e-05, -4.958200623353882e-05, -0.00010872003223516528, 8.157622752731638e-05, -0.00020239918324750522, 0.00018843690111246996, 1.9634056028149665e-05, -0.00010548045667851949, -0.00010991217346324987, 0.0003156896228900216, -0.00012740833246204834, 4.936802637503265e-05, -7.018032495535145e-05, 4.2491367561205414e-05, -4.9081485787981944e-05, -7.561392410733103e-05, -3.3467588910027586e-05, 2.2021532338639354e-05, 0.0001326275243353028, -4.208010538984598e-05, 2.1893410754138285e-05, 3.518417589104448e-05, 4.1264155157713395e-05, -0.00012611438695643576, 0.00012102233232416483, 9.59471567393706e-06, -0.00018063658142585996, 0.00011117388955998739, -0.00020442410780766184, 0.0002478703797427617, -9.809442949675866e-05, -6.051124452777609e-05, 9.930768622542465e-05, 0.00010250074022203425, -0.00012399256432800725, -4.161193047826817e-05, 0.00023210694770491865, -0.0001288471321779859, 4.933156440668474e-05, 0.00010399825208264563, -0.0001686092464263037, -6.529767372387009e-05, 0.0001342201928719822, -0.0002771995320555438, 0.00013311035724809575, 6.517849998304077e-05, -3.3958439250958376e-05, -5.650554192366106e-05, -0.00011449573616146024, 0.00025122900487866985, 0.0001812969985108545, -0.00018052973748736812, -0.00011342876736020627, -8.186016961054886e-05, 0.00033009716585773185, -0.00016372537239111185, -7.3706015680411e-05, -7.84608027806913e-06, -6.171056685350901e-05, -6.129580688442713e-06, 0.00015145732246799097, 1.8824420663463337e-06, -0.00016961416412015633, 4.4366525288640236e-06, 4.753127017321095e-05, -3.542133641970139e-05, 0.0001130112831412138, -7.573103595344901e-05, 0.0001823191312439976, -6.327336954311818e-05, -9.84022342652188e-05, 0.00010224100632390676, -2.8198620314831185e-05, -2.6026833236727958e-05, -5.019447170982099e-05, 0.00015379981659916072, -0.00026458715551049087, 0.0001438990757182623, 3.567603689869763e-05, 0.0001305980638163317, -0.00011978614109676565, 0.00012991800154271127, -0.0003167414419238092, 0.00012701793108173083, 0.00011309543292567941, -0.00017957063662310592, 0.00012803194521860705, 6.288802292264928e-05, -3.8667288017208805e-05, -4.8368779279854156e-05, -0.00021654390993218473, 0.00015827102009106038, 0.00015561923920143878, -0.000365255245521047, 0.00021391136902216946, 0.00010026140582158987, -0.00011971312272446786, 3.604694348688788e-05, 4.6860406332121306e-05, -9.48832662010239e-06, -5.77699461766685e-05, 4.864977519555539e-05, 0.0001417192584147553, -1.017444188297678e-05, -9.5328007860964e-06, 4.8362782600283117e-05, -0.00021610644089760874, 0.000196776409438307, -0.0003212287034795595, 0.00016894310619044176, 0.00010828019458347586, 5.243042356811925e-05, -2.379782973566327e-05, -0.00011977371835372392, -7.61732316239345e-05, 0.0002281366348528962, -0.0001198051484780099, 4.4754691881191634e-05, 6.256541495033935e-06, 1.0715881434119061e-05, -0.00022624697382748918, 0.00010807041372039593, -9.0934381029938e-05, 6.882686093002411e-05, -0.00012997265441441131, 0.00014618042794237922, -8.944402450766842e-05, 0.00017672568487411334, -0.00020827836194524282, 2.3283226529090913e-05, 0.00025823973196838917, -9.48112586429372e-05, -0.00011182063851807982, 2.825327275461406e-05, 4.168731215889103e-05, 0.00017323830582135894, -0.00021842154660874942, 8.983375518048223e-05, -8.89995530204493e-05, 0.0001580763860283582, -0.00019315495346799159, 6.781706501103814e-05, 0.00013386503307068057, -0.00014440515980817614, 0.0001181733659283487, -0.00010320245332699422, 9.483550504993275e-05, -0.00014463043056288, 0.00014183654582884683, -0.00018950915542274125, -2.886738535615462e-06, 3.52268625116939e-05, 0.00016640442258640566, 4.2533952286475294e-06, -0.00022049055954093672, 0.00014441069273394072, 3.401242365783151e-06, 2.6419078161508738e-05, -0.00015672005492896278, -1.1825110408917102e-05, 0.0002044196384072576, -2.295456818395635e-05, -1.6184216684744372e-05, -0.00019765303942836379, 8.68753340432384e-05, -1.37596369895569e-05, 4.79277877299238e-05, 0.0001159721905939576, -4.585769543142016e-05, -4.720746012380037e-05, 3.586418552444239e-05, 0.00010286734056406678, -0.00012657577043522378, -6.790653843843506e-05, 4.715099082186263e-06, 3.852390658884877e-05, -8.632358902050024e-05, 0.00010823704842975859, 0.00013171823827656557, -8.547322236742108e-05, 1.4770387783552933e-05, -5.495133985027307e-05, -8.373688863228234e-05, -1.557264901625502e-05, 1.4795278684194014e-05, 6.186685372097806e-05, 1.4536315356603926e-05, -0.00015511276964047885, 0.00013437344915130463, -0.00013404232302449993, 6.464814597935809e-05, -0.00010256414019306748, 0.0002962894452683727, -0.00012697603836394876, -0.00010142942095022748, 8.075889580515397e-05, -8.169000173981151e-05, 0.00016175747223998502, -1.879979187180796e-05, 7.34378986772926e-05, -0.0001170050138176843, -1.847196601197446e-05, -7.917202661836615e-06, -9.89894016649367e-05, 0.00014445489504658567, -2.4444730227754253e-05, 0.0001406386403634938, -0.00012624185895530914, 3.153890225290862e-05, -0.00010364591460818178, 0.0002284072556619366, -6.05183219491544e-05, -0.00012417326150409333, -5.9088722361301195e-05, 0.0001618358098227052, 0.0001011145973920051, -0.00015967501989667997, -0.00013382321719939257, 6.170465875074397e-05, 8.209330234333696e-05, -9.381506409410597e-05, 0.00018053735139034717, -8.907492220152263e-05, -1.1203064487610014e-05, 9.71991102444438e-06, -0.00012695508512650504, 0.0001600035533925108, 5.902236907321324e-05, 4.019506762741276e-06, 1.634051571944426e-05, -0.00013762071559014047, -3.450261600843046e-05, 9.329905848816547e-05, -8.112259337383778e-05, 0.00011372177591051043, -0.00021259269169958528, 0.0002572217311394572, -0.00020726816036623568, 0.00013115685189208967, 0.0001181251487851174, -0.00014256309068881224, 0.0001013912942230308, -4.048708068788496e-05, -0.0001404514482687149, 0.0001561799720008621, -0.0001784379474449579, 0.00022315551964504176, -6.53829736207039e-05, 2.0238302116109683e-06, -0.0001525439506329669, 0.00013917043581006364, 3.498559830188442e-05, -0.00021531714285474902, -8.52587712592995e-05, 9.658339396733031e-05, 0.00021159263358281003, -0.0001923346325908485, 9.724911098813689e-06, 1.0423291835273035e-06, 4.162426027625193e-05, -7.524303770280042e-05, 0.00033185992146914155, -0.0003391712796322635, 0.00016517080817700502, -0.00015949467476844198, 9.84913086728867e-05, -5.698805055887408e-05, 0.00015621179731123503, 4.119404442968649e-05, -1.3604662247448436e-05, -6.129285553247856e-05, -0.00019768140242157098, -8.49757403769623e-06, 0.00018058256657107173, -0.00020810013792822536, 1.1782350612143261e-05, 0.0001318920171248786, 0.00012931691196367938, -0.00013348255148697762, -2.9684085707557285e-05, 5.476752619323422e-05, 0.00013250333189419094, -0.00010501222860253571, -0.00013590922768004255, 0.0002719336767818984, -8.886498599710214e-06, 8.427770514186442e-06, -0.00014415461953153305, 1.699821063731029e-05, 9.336179256572214e-06, 3.590423371870784e-05, -0.00014903708839724477, 0.00016700687207847292, -0.0002471222394334028, 0.00044269931705529463, -0.00034546703702474895, 2.336878088964818e-05, 7.331991883298484e-05, -3.213544027733846e-05, 6.579882621814541e-05, -0.00014983275824800084, 8.778058789067962e-05, -6.547971238652747e-05, 0.0001341592126107155, -0.00020457515151157957, 0.0002205409365151686, -3.63141637286456e-05, -5.517775850303706e-05, 4.282185195423354e-06, -3.138339887395169e-05, -5.146474946053764e-05, 0.0001499826564586645, -7.296622563722474e-05, 2.366389366093056e-05, -0.00011667131553729548, -2.1630028016076056e-05, 0.00014875183617223483, -9.296697191353117e-06, -7.891153823083425e-05, 4.34160929599831e-05, 3.876572661614986e-06, 1.6844520933172982e-06, 4.647904918119448e-05, 1.8267378779700527e-05, 6.66159870881662e-05, -0.00026925484187263987, 0.00014744693568266627, -6.371371857154907e-06, -0.00014731780689854603, 0.00038764961305159094, -0.0002659286997167637, 5.3871550789478e-05, -2.6854989611640373e-05, -8.46993456523268e-05, 0.00016318753726227977, 1.4280456166484827e-05, -8.647775956001956e-05, -0.00012748896136099232, 0.00028084962916513146, 1.2365120336742337e-05, -0.00016583935311313884, -0.00012548862120581917, 0.00013701891701776105, 3.0203577978038783e-05, 5.408466271669247e-05, -4.5776316912634946e-05, 8.32830606237402e-05, -0.00023021334380705018, 8.882853972561323e-05, 5.996406880883866e-05, -3.5687687181858616e-05, 0.0001521203595789773, -0.00024061236968535226, -9.082807163849778e-05, 0.0002189988851802793, -0.00012622180936778027, 4.1288610413503233e-05, 3.726496055998041e-05, -4.322380438755345e-05, -4.489552710684128e-06, 0.0002605643799005509, -0.00011950591596014467, -4.548340445118584e-05, 0.0001406011405615929, -0.00018582983437941806, -2.917545118297555e-05, 0.00016053144578407746, -0.00012874176620195259, -7.005309527247917e-05, 0.00014298698861811267, -0.00019088268724583502, 2.2707693628469604e-05, -6.452220584631127e-05, 0.00016139692850962616, 1.666962587419653e-05, -8.286436522112587e-05, -6.760465382508745e-05, -1.647203104028209e-05, 3.4681612234929226e-05, 0.00011961127186000114, -3.499253727965832e-05, 5.4557157974677244e-05, 4.507602294415846e-05, 7.053045329540355e-06, -0.00020276300051002722, 0.00010249950929717177, -4.925629393883427e-05, 4.978838998333681e-05, -5.1650638736839945e-05, 6.339263041553158e-05, -6.704806491208832e-05, 1.2945541357756998e-05, -5.5384079104152404e-05, 0.0002807635793326242, -0.00018934917870291133, -5.6096039092890234e-05, 0.0001299406497437041, 6.355249847997621e-05, -8.893113502619531e-05, -7.232766222353195e-05, 0.00018583897181544798, -0.00025748386269631063, -4.318628124251146e-05, 2.9121585037243387e-06, 0.00012956779911145385, 5.4423411589728266e-05, 1.2235932683635411e-05, -0.0001148766558232721, -0.00015217398706712483, 0.0003146703784100997, -0.00012860660001773853, -8.729024868459561e-05, 7.930169096729063e-05, 5.1916869972344444e-05, -0.00013135786139379773, 2.095427116743903e-05, 0.00025311509472690616, -0.00016739601664362766, 2.7852268495252683e-05, -0.00016069244842191406, 0.00010763747011286705, -3.0612595585210386e-05, 0.00014358176871364303, -0.00011985616621383615, 1.702312411600838e-05, 7.305781515889415e-05, -8.400793533238234e-05, -4.2318749926150825e-05, 0.00018168250756193902, -0.00015363648136992438, -1.8194520667003248e-05, 0.00011119443828184211, 0.0001586449555491685, -0.0001809871920742552, -0.0001249788937860702, 0.00023620114159735093, -6.324638745913416e-05, -0.00011134724626218347, 7.611002787554152e-05, -1.15813669931692e-05, -0.00010171903557437284, 0.00023573553381479832, -0.00015341398521450585, 0.00022906699315990167, -0.0002776537530698859, 3.895546886780961e-05, 8.714692408906923e-05, -5.980304418518086e-06, -2.3997101168630166e-05, -0.00010885747832318979, 0.00015935398482336684, -0.00014082804437547933, 3.450172746877949e-05, -3.525510011144792e-05, -4.86828492680825e-05, 0.00012171643742106215, -0.0001431221762908384, 2.172435534081369e-05, 0.00018267558707307075, -0.00016488160351388548, 6.948787775879368e-06, 8.368754985526735e-06, -3.9453608159526173e-05, -2.2323903533317534e-05, 0.00022088295786038372, 2.022394010471987e-06, -6.577157324003884e-05, 3.105747852911399e-05, -3.5887614808070526e-05, 9.38303170324153e-05, -0.00019044649525568148, -7.890147162210085e-06, -1.5424464632916543e-05, -2.276078877748439e-05, 0.00010904666727253382, 2.282209682112139e-05, -2.440186826123411e-05, -6.369000788416796e-05, 0.00019321958760131633, -0.00013806506933371736, 0.00025206975754071896, -0.00020388236743776499, -6.419413589502561e-05, 0.00015721126901209906, -0.000147514455476635, 0.00015673356395897443, -8.664670505331187e-05, 5.8078996219638455e-05, -9.323187902907612e-05, 0.00014001308509875885, -0.00012891603713839042, 1.4416243613650671e-05, -3.2336031378559836e-05, -6.890012482503785e-05, -4.448558654609851e-05, -4.248332946670209e-05, 0.00025414774267445343, -0.00018752251566495678, 5.342815853305337e-05, -0.00029458275929152293, 0.0003504742609854401, 2.418425145250076e-07, -8.398254009022159e-05, 0.00024008167253903814, 4.016486477033371e-05, -0.0002728403094561308, -1.9897987663328973e-05, 0.0002925210675900224, -0.00012582050099408247, 8.441308303297353e-05, 1.5303647147847946e-06, -0.00016863589242737482, 0.00014544351025405354, -0.00010578096829163885, -0.00015436557094711983, 5.417817521584898e-06, 8.861890856192431e-05, -3.829310979566447e-05, -5.54077147443704e-05, 0.00014494730009383886, -0.0002529652496497782, 0.00031627941063387883, -0.00020049350483987197, 8.283199459094805e-05, 2.6636902927913932e-05, -0.000166454730947988, 8.633037383696156e-05, 0.0001067688708009164, -8.599707382256131e-05, 6.021191554344545e-05, 7.726825040676511e-05, -0.00019212671734878938, 0.00010954020967354818, -8.795874867755585e-05, 2.8924424537239665e-05, -0.00012750399758395793, -4.174973671337826e-05, 0.0002882074776237965, -9.655992993152528e-05, 9.188578124087897e-05, -0.00013153267779825374, 1.6817754738253857e-05, 0.00016942768771626367, -4.840577516883653e-05, -0.0003336824372195035, 0.000287212369463768, -4.657282770251885e-05, 0.00011395730038346302, 6.819771218200307e-07, -0.0001561191289025869, 5.460803784776118e-05, -3.245325057406792e-06, 7.375915942297369e-05, -0.00020741960082318897, -5.073648442753818e-05, 0.00015517165151488036, 0.00017410364718174873, -0.00013599670395218673, 0.00012567303703089514, -0.00013051103158167972, -5.3222800460319914e-05, 0.00011590149543654577, -0.00012451231160984168, 0.00012895384871394822, -9.200327464329345e-05, 7.383541482859006e-05, -0.00014163945374113407, 3.5506819622782176e-05, 0.00012242144322450094, -0.0001083585732539946, 0.0002742680905770364, -0.0002371683086924913, -2.7958740836535556e-05, 0.0003011633621966465, -0.00028940437049838967, 6.766189916248656e-05, -9.515857426221241e-05, 0.00017474749865519727, -0.0001067914207213743, -6.120433802196874e-05, 0.00012168991146781104, -0.00017641664498761213, -1.8920186745874686e-05, 4.1516007749741116e-05, 0.00014703744790086807, -7.85194790266776e-05, -9.8721810747539e-06, -0.00015392408691789562, 0.00011227308156895997, -6.125895795092288e-05, 6.146294417778846e-05, 0.00012885385127370635, -7.054245970899284e-05, 3.8816623523047426e-05, -0.000115438902532162, 6.241732032148766e-05, 1.9155256136315105e-05, 7.616623540416154e-05, -3.8822679590494226e-05, -0.0002134457826124894, 0.00012411191686029503, 6.398674992806834e-06, -0.00012631232444104326, -0.00019877093000660474, 0.000291299283128685, 6.515794451083966e-05, 8.879393148375909e-05, -0.00012416135733635389, 7.780686381040375e-05, -2.9940724935243055e-05, 3.459369946855443e-05, -0.0003495284666262675, 0.00019041534986654628, 8.730867764009166e-05, 7.947891187824635e-05, 7.000514401138171e-05, -6.61314419651673e-05, -3.9715316756440015e-05, 0.0001560212176113083, -0.00022444020024446114, -9.045463428405017e-05, 0.00015637171911040852, -4.959822659625161e-05, 0.0001318995680146657, 7.995108870936122e-05, -0.00043998195980539, 0.00024789268713022256, -2.8597991017590725e-05, 0.00019313713160428182, -0.00021002661934936868, 0.0002003387741950486, -0.00013165234042110605, -3.684549644305712e-05, -1.963398262605519e-05, -6.090891032163658e-05, -4.2694683549639507e-05, 0.0001395714198010737, 0.00016339908813690996, -0.000123121541639601, -5.037795752742756e-05, 9.939312548456625e-05, -0.0001599134614218851, 0.00015931622025818352, -9.614714193326118e-05, 0.0003079782172269077, -0.0001912022492061888, -9.303324776932862e-05, 8.681639682379307e-05, -0.0002265309648506567, 0.0002032072402979111, -0.00010876761990902371, 0.0001320771236843705, -3.334985374328307e-05, -0.0001295864740281395, 0.00018678417605188572, -0.0002170790673469578, 4.0640065456109686e-05, -0.00012442846403127797, 0.0002286254124268487, -9.23600915371007e-05, 0.00017075422906020883, 9.9835415386111e-05, -0.0003119769837860993, 0.0002572708256880987, -0.0003615657388040522, 0.00013439749080254639, 1.5979255352244324e-05, 0.00019234458834210371, -0.0002980241423160094, 8.662323051565035e-05, 1.403358757318555e-07, 1.814054414122495e-05, -5.2846172560959434e-05, 6.484796798389035e-05, 0.0002434891172807581, -7.63991549044539e-06, -0.0003202746155320496, 0.0003156960048103575, -0.00015276655852826957, 2.003471949764571e-05, -0.00020950413478508316, 0.00011980126406227044, -2.4628279069851665e-05, -0.00011165321591054057, 0.00017791197563556143, -6.584325069187148e-05, 9.158546562433543e-05, 0.0001239725122664977, -0.00023644837542511257, 5.106489747216775e-05, -4.674955128249154e-05, 3.033094655475566e-06, 6.944436259750791e-05, -1.4402499452853567e-05, 2.637925806191888e-05, 6.0771265398964646e-06, -5.756243920858548e-05, 0.00014685419088789878, -0.00022273657678653945, 7.458141961769248e-05, -2.284038623507601e-05, 0.00010966797033076411, -9.496547751808453e-05, -6.566350107888911e-07, 8.559870938948337e-05, -4.7913383202182714e-05, 3.27470092740793e-06, 8.116445580166076e-05, -0.00010752194600350568, 0.00014908624099150192, -4.3316632493018744e-05, -3.5824644418971853e-05, 0.00017160892441814122, -0.00029174328851041235, 9.172117447314077e-05, 6.590435114816766e-05, -4.0487112069831334e-05, 8.990124699839334e-05, -8.488967181677168e-05, -0.00019802114912677443, 0.00015780137983400027, -5.0184795151671475e-05, 2.5864125128248307e-05, -9.97872118528939e-05, -3.25780871969703e-05, 0.00015336101166814442, 0.0001551587015202886, -0.00010340183408354717, 0.00021988114728147353, -0.00017013511528313387, -0.00017529709395871484, 0.0002608119457885776, -5.1725023125121464e-05, -6.324153256048328e-05, 8.130193307816304e-06, 9.944424435388152e-05, -0.00023987258052816983, 3.24184802510861e-05, 0.00012815906421249738, 6.0293283047062785e-05, -5.595571287971781e-05, -3.732822537521831e-05, 0.00012568480962384113, -0.00015302450674038636, -0.0001356010604824882, 0.00010484326582101425, 5.551882530729782e-05, 9.424622748608774e-05, 2.5749390784439656e-05, -0.0002270014310276226, 5.050999795679807e-05, -5.533500561431908e-05, 0.00019852718103315734, -4.6939295260259146e-05, -0.00025462103855864034, 6.629491558861889e-05, 6.20617817596247e-05, 2.944599915407144e-05, -9.809653883553427e-05, 3.5855439469561566e-05, -2.71095000764523e-05, -8.466201300205102e-05, 0.0002647010780639421, -9.685582375162826e-05, 0.0001622604587358821, -3.4738309873405356e-05, -0.0001592673378603088, 2.5952165254849018e-05, -0.00016244087638157118, 0.00014543129138388058, 0.0001599896655071945, -8.301292863324708e-05, 2.699286664639679e-06, -0.00015774873135241868, 7.069273597454217e-05, 7.638073527943637e-05, -1.1343131654608849e-05, 0.00010362895575266015, -4.9433265593228894e-05, -0.0001482087387901708, 0.00020996436919268818, -0.00024865955111904843, 5.974251299033014e-05, 0.00019918448674881843, 3.8695884861191096e-05, -0.00021212571157470112, 7.488498327640074e-05, -0.00020205933496492376, 0.00011490370282285473, -5.74739733510691e-05, 9.563961452793616e-05, -1.4193793890219722e-05, -0.00010685441885142122, -3.842239521622577e-05, 0.0001928411758220831, 0.00021078084078562118, 8.569799457566556e-05, -0.00015662635831615378, -0.000204566953087532, 5.8509899748831706e-05, -4.997247917513812e-05, 0.00011832210509171115, -0.00021702616185297999, 0.0001050101941886314, 0.00017773722665811827, -0.00011030663099749736, -0.00014129472220176086, 8.135637588886785e-05, 0.00010998383023884995, -0.00029089122730897643, 0.00030592420202129, 0.00011798560921165805, -0.00033042050682168385, 7.100492171355349e-05, 4.015359511540956e-05, -6.12828924197227e-05, 0.00019345566331371793, -4.271698971767517e-05, -9.800062969042504e-05, -6.478512859940404e-05, -3.703558911201801e-06, 3.136238516628754e-05, -5.015212251888876e-05, 0.00012255140114580227, -0.00010832572170542947, 8.929976778787958e-05, 3.4701411985101774e-05, -0.0001997057713231813, 0.00032449077256142144, -3.475574615127095e-05, -0.0003334271012203719, 0.0002130227068617326, 0.00020309098660891762, -5.37881821997174e-05, -5.1805625603900264e-05, -1.627795526510369e-05, -0.00022423628930451491, 8.33540669156873e-05, 0.00020686635036708416, -0.00027523369078723037, 5.417785424244228e-05, -0.00014085895991603606, 0.0001819011652711672, -8.721138557436777e-05, 3.2003918598948845e-05, 7.922989049204728e-05, -7.008218767797311e-06, -3.525681719606279e-05, -0.00011704494959354095, 0.0002294545754852124, -9.927528995302074e-05, 0.00012955531794316626, -2.5381167292647034e-05, -0.00032166659985943694, 6.686595439938623e-05, 2.5607739318023655e-05, 0.0001656926860612007, 1.9442729050692464e-05, -9.701703377493632e-05, 0.00014322599136971532, 7.94502617256913e-05, -0.0002711484971664835, 7.464388860190992e-05, 2.0089260377928535e-05, 0.00012144142508486647, -0.00012147815953612111, -0.00017095938776648492, 0.00028297079805357294, -5.197501548052117e-06, -0.00012807943187614026, 9.109543812560639e-05, -0.00014487468074496327, 0.00019561401210974465, 7.559787016711286e-06, -9.086805305365084e-05, -4.536731089972404e-05, -0.00011031777810542298, 0.00020136796933116027, -8.184963674237219e-05, -6.806203411190902e-05, 0.00011520251196632762, 2.1841837207410447e-05, -0.00016126349069096015, 0.00010196147933602448, 6.176258701650208e-05, 0.00010326661558799935, -0.00018481944455628148, 4.3891508100727905e-05, 1.9827720922440612e-05, -4.3732652403747034e-05, -0.00014879143954805172, 1.8703731723976363e-07, 0.00020205528047628272, -5.738672794388312e-05, 9.908887395469672e-05, -9.326329312212005e-05, -5.9207643134451664e-05, -0.0001445704794710823, 0.0002291440314704777, 9.96481639610764e-05, -0.0001502321770141713, -0.00011322337934649382, -4.468028031608024e-06, 5.400883922438772e-05, -6.355002096141488e-05, 9.147049439311749e-05, 9.157674912686435e-05, 0.00010243763878319497, -0.00012891281110465104, 0.00018460820745776283, -5.20159041880601e-05, -0.0001741759514552028, -0.00021444166273589202, 0.0002804459570713736, -0.00010309088764639396, 0.00031585149838410484, -0.0003013895939570391, 0.0001309799389144803, -2.369145822635798e-06, -0.00011306578989136167, 0.0002664515341189656, -0.00026413516954896794, 0.00010176333279948073, -5.7870861197010074e-05, 8.328114905661337e-05, -6.440824349528478e-05, 2.579942103228062e-05, -7.227221271171398e-05, -5.50624198440262e-05, 4.524239132776184e-05, 7.138079307454118e-05, -0.00029169972175176217, 0.00027412007509239344, -0.00012517635838535634, 0.0001759847957704365, -9.819100866308155e-05, 0.0002646395945536927, -0.00012025202825333865, -0.00022469194055192815, -1.803031297700749e-05, 0.00019740401466343744, -0.00019704658869487495, 0.0001512652573799443, 2.0389088013330768e-06, 7.7364149867671e-05, -0.0002710281279780665, 0.00013255975037437343, 0.00017505609211342478, -0.00011191447083903872, 5.0423724446230775e-05, -2.027632451333629e-05, -0.0001231318264197832, -3.8730753977128314e-05, 0.0001538182780785845, 9.076271441663668e-05, -0.00015353180201413814, 4.704531268798382e-05, -8.854108579734551e-05, -3.465602836507347e-05, -0.000152407151363639, 0.0003719345257008052, -0.00026144514318500553, 0.00027395412164831076, -0.0001934911868893712, 2.232202281088848e-05, 6.403916514026077e-05, -0.00010428082205372733, 2.5838452547506917e-05, 0.00011958832927778784, -0.00012327882158866702, -4.756155610802221e-05, 0.00011640060731426128, 7.320264401122929e-06, -0.00014186076708062602, 0.00013780187570951914, -5.2043122537776505e-05, -0.00024675426714042856, 0.0001276712023382065, 0.00024071581795938627, -0.00018647064684243668, -2.123950628111103e-05, 9.127082115998361e-05, -0.00011579229693068668, 0.00021324895062952855, -3.0337925717822535e-05, -6.81766646733802e-05, -9.34890920150041e-07, -3.6383769549385885e-05, 3.314415662625144e-05, -0.00015793406756250345, 0.00013337425902384094, 1.111287227347931e-05, 0.0001657273239916944, -6.776935960219688e-05, -0.00010504860310600723, -4.751955883857025e-05, 0.0001207677118951407, -0.00011263198691257739, 0.00022724738084020397, -0.00014647485925310498, 8.93388679083418e-05, -9.22086154102683e-05, 6.057157368963006e-05, -0.00011296797556716703, 0.00011852286649212443, 1.859562656765587e-05, -6.57817602816105e-05, -0.00015104276802789011, 0.00019718423455850108, -0.00021926537958829166, 0.00014901490129898038, -0.0001053200627944899, 1.832051919994115e-05, 3.162013290479278e-06, -5.467065761712604e-05, 0.00014602989086435496, 0.00013206801991980492, -5.639460748315973e-05, -0.00018788174274988318, -0.00016936635057301114, 0.0005204829518267024, -0.00015302951857461256, -9.31343965193318e-05, -0.00011269750944043768, 5.4572733368189756e-05, 0.00013452326057653645, -5.282323293525912e-05, -0.00010785425787659054, 8.232112849857238e-05, -2.4029944963297417e-05, -3.549727188900557e-05, -6.875931824209511e-06, 0.00019942253962987756, -0.00018384450417154776, 8.493987638844327e-05, -5.8975533898240014e-05, -8.454070802884869e-06, 0.00012569801193778953, -4.408085558662157e-05, -4.664999398617109e-05, 9.806414188956686e-05, -0.0001515027362009279, -5.032656043887792e-05, 0.00023728815077629525, -7.352581712428536e-05, 1.2384632410378348e-05, -6.297513455197895e-05, 0.00017357958555395449, 9.314801996940541e-05, -0.00033912905476028926, 0.0001064241340257688, 8.879287405704918e-06, 3.284599281435803e-05, -0.0002069151897026883, 0.0001357431872752179, -9.734646326720766e-05, 5.708728904397796e-05, -4.378057446697948e-06, -2.020407848352638e-05, -6.281488061318669e-06, -4.8175415370203136e-05, 0.00016155662667805812, -5.618384158775185e-05, 2.778691103239737e-05, 0.00014348516863580413, -0.00016076865117194643, -5.025215236667441e-05, -0.00016730990225707632, 0.00035036673085037904, -0.0002571654151145994, 0.00012076080964707408, 7.475580012629546e-05, 0.0001165638331225759, 5.328579214720842e-06, -0.0003389251308020253, 0.00022716345486700111, -4.864122486150608e-05, -1.2274454751229818e-05, -0.00010598279399365872, -2.6510082746121348e-05, -0.00011901607117767729, 9.255008172480904e-05, 0.0001925834974191196, -0.00010941266087416623, 6.938313294388775e-05, -4.975143544593653e-05, -1.4531234412968944e-05, -2.6397893063933357e-05, -0.00015709542552949676, 0.00015757629537587186, 0.00017335075552493343, -8.278101572368972e-05, 4.341564607220761e-05, 0.0001228677141719551, -0.0002522306556130287, 0.00010881600072495498, -1.4058115358923568e-05, 6.064850689924086e-06, -0.00022946887016425273, 0.0002026198953429359, 4.63418042588283e-05, 2.2429164894115023e-05, -7.666927671031386e-05, -4.2056602423549405e-05, 2.0314812779264728e-05, 0.00020990364734292403, -0.0002996079346437678, -5.4970817018020266e-05, 0.00014607147859217555, -1.917956261430777e-05, -3.8429244843721226e-05, 0.0001165500521234393, 1.7248741646929178e-05, -0.00023254231192821326, 0.0002274095900824357, -6.857994403806751e-05, -9.7655506034414e-05, 7.481001641390822e-05, 7.749498395431291e-05, 4.156628697615251e-05, 3.191976692804313e-05, -0.00030384681276072366, 0.00023653788547150944, -0.00017805833339739388, 0.00021099253310289436, -2.0768169138646866e-05, -5.956371857853985e-05, -0.00012567753278711476, 1.877039675210459e-05, 3.7489094665819766e-05, 0.0001190844229971287, -0.00010154126240198702, 0.00017651967793131775, -9.629729423803365e-05, -7.64549512287891e-06, 1.7723060265901793e-06, -0.00019371850721497014, 0.00017940158812686919, 4.147672775402211e-05, -6.596618895364553e-05, -4.552678092119847e-06, -3.530727119255617e-05, 0.0002216991668831747, -0.00033643579201080064, 0.00018723757980279042, -3.757370878337006e-05, 5.934682874761808e-05, -0.00025471052665112414, 0.00022091706616473542, -7.168865455950151e-05, -8.356792600010699e-05, 0.00011919799649970501, 0.00024247288286089998, -0.00030321489292879677, -0.00014162268864752035, 0.0002546296134174162, -1.67678730782554e-05, 0.00014324858660431984, -0.00017964987129306188, 0.00019824680148724792, -0.0002508090623012152, 0.00010064452514877168, 0.00013966008859971508, -8.726141194294719e-05, -9.378755670401259e-05, -4.002617012532961e-05, 0.000174973184603251, -9.570453715738337e-05, -0.00021828501589149754, 0.00044628370217837524, -0.00027966360728551445, 4.2366975808702105e-05, 7.846603713478823e-06, -5.205986823485608e-06, 4.077987832873942e-06, -1.559900353013071e-05, -0.0002265511787123217, 0.00030105695419478055, 0.0001918029202063261, -0.00034231435001131217, 0.00012374122889698805, -0.00010380998605136044, 4.531579979868273e-05, -0.0001370694805924875, 0.000205924835153841, -0.00012317177705520817, 8.236006261261715e-05, -3.949339739332162e-06, 9.184269560874929e-05, -4.7078862295199856e-05, 6.06127623821233e-06, -0.00012495464779145804, 4.3914314708786124e-05, 0.00012131873007315236, -8.836436828298802e-05, -0.00017731446197401238, 0.0002636542490963736, -0.00013359330126268748, 5.066942515875489e-06, -5.324642938909425e-05, -4.600938656008068e-07, -0.00017523169451560754, 0.00033711013166742913, -0.00015090876862633153, 7.439206991584747e-05, 0.00024275306807118095, -0.00024415188380732286, 9.544680290761285e-05, -4.085692804323073e-05, -7.872852940845102e-05, 9.491043482348448e-05, -4.363291335867731e-05, -2.5756801618883708e-05, 7.0992474514533e-05, 8.902131970994465e-05, -6.267271537729414e-05, -0.00011242941160560064, 8.179119935830228e-05, 9.686624880259167e-05, -0.00021239723626631114, 2.2524254518365195e-05, 4.60675329417714e-05, -2.3589403754598705e-05, 1.122367999292076e-06, -2.994652874837455e-05, 6.1023851344678465e-05, -4.113504181779953e-07, -0.00013272884140806644, 0.0002338477417834074, -7.771588887300681e-05, -2.5699663491656272e-05, 4.0318543698099254e-05, 2.324815635802879e-05, -0.00021041270776081726, 5.01134802110069e-05, 0.00020022492113862554, -0.00010183666288075576, -6.487482808070296e-05, -8.414644285087396e-05, 0.0002411089358994338, -0.00016502062640262908, 9.242376946982672e-05, 0.0002031119098928648, -0.00024906679205252154, 0.0002811614811534677, -0.0002931872345890842, -4.2629910009235326e-05, -0.00011437771051248471, 0.00013480642714285514, -0.00017236533933705965, 0.00014215925310030806, 2.8266301307699914e-05, 7.6452675986082e-05, -7.287887379745918e-05, 9.011616277538072e-06, 4.553550774792901e-05, -2.4671789671022885e-05, 8.562160107087465e-06, -0.00010469815170772485, 3.831468266281793e-05, 6.0173341556571005e-05, 0.00010989725777405844, -9.987989598574378e-05, 5.057216066119702e-05, -0.00015348080609423992, 0.0001655397690025332, 4.440658449344132e-05, -0.00015632570127143452, 2.7079744032057088e-05, -3.740180947465111e-05, 5.118914793539673e-05, 6.645304689611837e-05, -0.00016822158173341228, 0.00017266941190145166, -1.4123683307082837e-05, 5.798442169740669e-05, -0.00028257965597549715, 4.207821538668668e-05, 0.00014165171034786355, -7.586845898119672e-05, 0.000140431077221839, -3.917918022510287e-05, -3.8800610317427437e-05, 9.720127401227154e-05, -0.0001393627815945177, 0.00015635610374500937, -0.0001454033454879633, 0.00023131779056289716, -0.00022909324342632048, -7.438397706383213e-05, 0.0002749129132952081, -6.981911633371807e-05, -8.679217477484353e-05, 4.513199603170352e-06, 1.764455046508527e-05, -3.968716006917192e-06, 0.00016021169223894824, -0.00012212064584277626, -0.00019288497272101825, 0.00010557616721294654, 9.749241936596324e-05, -2.1031991446018707e-05, -0.00013256598881816533, -2.5289239440028126e-05, 7.237020388731517e-05, 4.728169144869562e-05, -0.00010714575649107628, 0.00022033450882920355, -8.388615165888668e-05, 5.630869665682749e-05, -2.396992488133546e-05, 1.0827162373931238e-06, -0.00021262626207061957, 0.00013605108652015377, -6.879232528080739e-05, -9.450599261134233e-05, 8.415415770444799e-05, 6.533106185738304e-05, 0.0002071265901014691, -0.00034063691041801193, 0.00015021221996293685, -5.523926061401643e-06, -0.00024699849730207567, 0.00042631063579742567, -0.00029609343039830634, 8.2069759237507e-05, 0.00015452070661411293, -3.1897422424344395e-05, -9.897736579239271e-05, -5.685736201888891e-05, -3.077550045482602e-05, 0.00011544810187638058, 4.130045667543817e-06, -8.964466784576683e-05, -5.8823817414149953e-05, 0.00021629835927575226, -7.610597043706184e-05, -0.00011322922808348939, 5.002705255056005e-05, 2.9063268217568333e-05, -2.39087658702895e-06, -0.00011269711481382209, 0.00014884846297569422, 5.407823105986725e-06, 0.00017560517086455637, -0.00015048995293766196, 4.368994756375899e-05, -5.7596473095680065e-05, 3.719789934778118e-05, -0.00022863892814529874, 0.00011350085211397878, -7.09776086050445e-05, -0.00013498509190937023, 0.00027091758216276176, 1.8508668311293485e-06, -5.155993509782961e-05, -3.672801155053274e-05, 0.00017735977828762462, -3.306594269458255e-05, -0.00014512546059039763, 0.00014387037671292799, 3.1415983785374755e-05, -7.642222142009752e-05, 5.600906784359681e-05, -7.210693450678224e-05, -7.087330931482127e-05, 5.4912181141612146e-05, 7.569724536727279e-06, -7.287510736248816e-05, -0.00015678450630094635, 0.00031671696545845286, -3.8813832093824266e-05, -8.942081256838577e-05, -2.8666926321282774e-05, 2.9690258649187963e-05, 3.062543170994344e-05, -8.100136936344312e-05, 0.0002254981743551027, -0.00014146471094554885, -1.2412173836513764e-05, -7.344130207878415e-05, -0.00010870920636871017, 0.00028006599317518426, -9.344660038468476e-05, 2.9671276679050728e-05, -4.084550337505748e-06, 0.00011311491279268244, -0.00010270954652825872, -3.6431405605422147e-06, -7.391801049492805e-05, 0.0001463512185294153, -4.49270648657755e-05, -2.8521938857154482e-06, -0.00014688060698657963, -0.00015022919141244027, 0.0001741984362287723, 4.2934420644915634e-05, 0.00011772272486954419, -1.9092907631992435e-06, -2.6774295573038973e-05, -0.0001771624160722652, 0.00020631547178963865, 7.132826259532772e-05, -0.000215438779843179, -8.71912344293022e-05, 8.89234581116746e-05, -0.00010858626335450236, 0.00012466890128673248, -0.00013877532901401858, 0.000357632352354156, -0.00020373387178547012, 2.3590855642481524e-06, -4.475479124915528e-05, 7.868331305574828e-05, 6.54237985102522e-05, -0.00023110252685942207, 0.00014338866143078356, 8.632667217016125e-06, 5.1288947084284506e-05, -0.00019495779560601566, 1.1567891899648074e-05, 0.00010906002896190669, 0.0001802751624142335, -0.00014913671256792282, -1.2246557619431845e-05, 5.208163623884244e-05, -7.335093320616822e-05, -4.081731605184176e-06, 8.946677896104533e-05, -0.00017958482634236134, 0.00015594909267336123, -0.0002773922040935746, 0.0003402487711800875, -0.00023324926509082138, 9.962175073649683e-05, 4.0995239844953946e-05, -8.292035842424017e-05, 0.0001369400798494219, -0.00018824129074446032, 4.311543568242942e-05, -8.35697488558672e-05, 0.00022192635465827107, 6.59695492927256e-05, -0.0001601493575224984, 0.0001003492107656718, -0.00029025422125100454, 0.0002049963103309398, -6.964586248411972e-05, -7.118885153128043e-05, 0.00015229343467315396, 7.708822706317912e-05, -1.7932428928437206e-05, -5.9761627415943275e-05, 2.7904533686727128e-05, -0.00023208775750986412, 0.0002687177726539712, -5.696237110442358e-05, -9.57273103404515e-05, 7.158138870786771e-05, -4.9712661552818434e-05, -5.734674718018646e-06, -1.9339975201583212e-05, 6.427733377188122e-05, 9.100969154692702e-05, -0.00020347876210966476, 0.0002490739548319268, 1.4381765916465325e-05, -1.4284751906541406e-05, -0.00015691613865332542, 0.00017912878116436873, -0.00027043335793643244, 0.00011187041558629041, 0.00013377312711637657, -0.00011640633417792338, -0.00012246827451264775, 9.942556277100283e-05, 3.667710420249834e-05, -9.719518764008994e-05, 0.00019287947847633588, -0.00016212948536646455, 4.956176642824273e-05, -3.5471656804014243e-06, -5.802397700077405e-05, 0.0001991396708097458, 8.419298034939901e-05, -0.0003141961844346811, 0.00039700715524419137, -0.00028788243736717556, -0.00023067652173280973, 0.00014820708989182922, 5.3521377852758825e-05, 0.00015184538773729966, 4.2935898533221875e-05, -8.377748818219718e-05, -5.616597186289156e-05, -1.7183160240647468e-06, -6.576873777029406e-06, 1.803043038818115e-05, 1.9933463857358618e-05, -9.441493775546277e-05, 8.475720692647883e-06, 0.0001331260550421319, -8.47652076956809e-05, 0.00015371820704947165, -0.00032322432398361673, 6.471126995783049e-05, 9.810280193049395e-05, 0.0001509132723665268, -0.0003035033184017269, 0.00012967555705506635, 3.524574819381746e-05, 9.239573878855555e-06, 3.7750062001461453e-06, 1.98918009678433e-05, 0.00017628803266709283, -0.0001492664346647654, -3.413910777009669e-06, 5.752406759622902e-05, -0.00021546206322384413, 6.003012631930767e-05, 4.96873469185668e-05, 4.073423956657375e-06, 6.661029917567507e-05, -1.533648765756756e-05, -6.574516150311646e-05, -3.7879105495142266e-05, -5.347717454479701e-05, -0.00029006370694149267, 0.0004825527482266557, -0.00011285978834550954, 0.00014209566773620995, -0.00010287038590678982, -0.0001434185140300694, 0.00013551686354128454, 0.00019200285186083237, -0.00026814453425328056, 0.00010380622716793681, -1.8571286830692575e-05, 6.494749067513888e-05, -0.00013719838620049134, -8.712704793384592e-05, 5.3566338384483725e-05, 0.00020736796151400011, -0.0002386174487870288, 7.930430943268642e-05, 7.177132872621609e-05, -6.875114414936998e-05, 1.6211654851180285e-05, 4.380437290595172e-05, -9.48482605648762e-05, 7.87594670455496e-05, 4.600083478014433e-05, -0.00021992043624670832, 0.00013489281822168088, 5.848858232109606e-05, -0.0001452977156650037, 7.773097923552514e-05, -2.4534582654552575e-05, -8.07377034010866e-05, 5.201042867146565e-05, -4.925503978104003e-06, -2.110070441600658e-05, 0.0001269577330275438, -7.969392766397535e-05, 0.00018088822569869225, -0.00015065840030991504, 0.00011553682348919303, -0.000157658179817118, 3.8476886638907065e-05, -2.650174119639608e-05, 6.083689689675288e-05, -8.468058725164223e-05, 8.544492994755028e-05, 3.4921890156450436e-05, -0.00015693677683394728, -0.000165957918128931, 0.00012154065659620272, 0.00011697505156934971, 5.8412344712910264e-05, -4.3046406608170576e-05, -8.515958329100189e-05, 0.00033779407220220264, -0.0001541716831479932, -6.691452154774422e-06, 1.4745702991935538e-05, -0.00020211149790662594, -1.2175729072486898e-05, 0.0001759073709985245, 0.00011173452557666513, -0.00018752086716205204, 7.233114381297025e-05, 4.455336748137832e-05, -9.903187869000062e-05, 7.920095416706102e-05, -0.00013849309558370957, 0.00016304441617143978, -0.00010574351346368964, -4.601398549931226e-05, 0.0001090946868994666, -1.7883456794849476e-05, -0.00019212293034043653, 0.00012779894201411164, 1.4243443256938721e-05, -3.637683218867499e-05, -7.129932470479858e-05, 5.4654665044006765e-05, 0.00018148274651812375, -3.095522550818533e-05, -4.8755415956424324e-05, -1.4359952426810009e-05, -0.00019513641464594727, 0.00027774786625362884, -0.0002038183104587824, 2.5531952116950802e-05, 8.648547644676691e-05, -0.000133877213916704, 9.299634942243107e-05, 5.092718111330356e-05, -5.41896955067959e-05, 8.496077995517114e-05, 0.00012350771370376533, -0.00014510152800845935, -5.9777706567072687e-05, 5.5606771041881305e-05, -6.412282012138115e-05, -1.000148078076886e-05, -4.597811144967934e-05, 0.00012819126604554472, -5.3569962797853916e-05, -0.00010342312206457061, 0.00012317229750039152, -0.00027150571830708066, 0.00037868873339403026, -0.0001233028772785874, -0.0002937722885036827, 0.0002751440666274387, 2.456157805032849e-05, -4.861431934243431e-05, 7.85526031122348e-08, 0.00011707808008853016, -0.00011817114599703378, 0.00017893592507857014, -9.875814384555034e-05, -2.3246916532607148e-05, 4.908882809991387e-05, 3.937477861784347e-05, -9.809626409999582e-05, -3.942058825304739e-05, 7.941633559313766e-05, -0.00018293239064308162, 0.00021424149525061946, -2.11889603778425e-05, 9.818705345461678e-06, -0.000176474071360208, 0.00013205965525025273, 0.00012623363557740097, -0.00011273503208232152, -2.618202990453139e-05, -5.761765551713943e-05, 0.00012358028889766347, 9.300698804838601e-05, -0.0001016764945889637, -0.00019405888502015307, 5.83098357586354e-05, 0.00018395765982156064, 7.711178824720338e-05, -0.0003209895503424754, 0.0002622203448340482, -6.220087949280845e-05, -0.0001549934693770156, 0.00016765850340579592, 1.268737341472997e-06, 3.3807614191170636e-05, -0.00018495921360425855, 0.0002080328956058625, -7.967880814327118e-05, 5.10594447061445e-05, -8.08907745889826e-05, -6.823500829973354e-05, 1.1463413218273416e-05, 4.080171680087764e-05, -1.3521855391388057e-05, 2.444793362577051e-05, -8.766041135847231e-05, -0.00012009351139963797, 0.00022012276058040487, -0.0001555072008062145, 0.00013067994048956408, 1.0742185184633471e-05, 6.643658792667762e-05, -0.00014212214353682322, 0.00020321736177401656, -0.00030071872970561294, 0.0003277965430908978, -0.00023264248874734674, 6.212976254535367e-05, 0.00013409481329268127, -0.0002800857587180105, 0.0001363953199552891, -7.831213202790135e-05, 8.412458722940448e-05, 7.135125664090157e-05, 5.966642905287077e-06, 7.212886066209087e-05, -0.00011167642515365223, 0.00010061169704322125, -0.00011149299149121522, -0.00021267912013308454, 6.381076956058227e-05, 8.539917749905972e-05, 9.71603383356275e-05, 9.361363648517e-05, -0.00017946950747555756, 0.00011687551274653914, -0.00012562140509389768, 3.350829962969063e-05, 2.352682642481208e-05, 0.00016130659397824292, -0.00020438913468009737, -0.00011579006628598155, 0.0002759846795975559, -2.0048888648095738e-05, -0.00013299573868293858, 6.866038781152578e-06, -2.218549705116747e-06, 5.368224958033041e-05, 6.713931794717382e-05, -0.00021694293323350742, 5.154510002853289e-05, 0.00010386506917321355, -0.00014178893235885769, 8.934731916078534e-05, 2.2108476603556726e-05, -1.4977179119017284e-05, 0.00013320913042816641, -0.0002642049526740572, 0.0004086570764235935, -0.0003176367989539381, -6.596754227399963e-05, 0.00012954623035081034, 7.410149870634631e-05, -8.76724239424074e-05, 8.3900713263217e-07, 4.451156496391944e-05, -0.00013513453083946418, 3.1389088978247405e-05, -4.688566871690117e-05, -2.5280574970633386e-05]\n"
          ]
        },
        {
          "output_type": "error",
          "ename": "ValueError",
          "evalue": "ignored",
          "traceback": [
            "\u001b[0;31m---------------------------------------------------------------------------\u001b[0m",
            "\u001b[0;31mValueError\u001b[0m                                Traceback (most recent call last)",
            "\u001b[0;32m<ipython-input-145-3c65578cf601>\u001b[0m in \u001b[0;36m<cell line: 30>\u001b[0;34m()\u001b[0m\n\u001b[1;32m     40\u001b[0m     \u001b[0;31m# Re-estimate the GARCH model with new training data\u001b[0m\u001b[0;34m\u001b[0m\u001b[0;34m\u001b[0m\u001b[0m\n\u001b[1;32m     41\u001b[0m \u001b[0;34m\u001b[0m\u001b[0m\n\u001b[0;32m---> 42\u001b[0;31m     \u001b[0mgarch_model\u001b[0m \u001b[0;34m=\u001b[0m \u001b[0march\u001b[0m\u001b[0;34m.\u001b[0m\u001b[0march_model\u001b[0m\u001b[0;34m(\u001b[0m\u001b[0mtraining_data\u001b[0m\u001b[0;34m,\u001b[0m \u001b[0mvol\u001b[0m\u001b[0;34m=\u001b[0m\u001b[0;34m'Garch'\u001b[0m\u001b[0;34m,\u001b[0m \u001b[0mp\u001b[0m\u001b[0;34m=\u001b[0m\u001b[0mbest_arima_order\u001b[0m\u001b[0;34m[\u001b[0m\u001b[0;36m0\u001b[0m\u001b[0;34m]\u001b[0m\u001b[0;34m,\u001b[0m \u001b[0mq\u001b[0m\u001b[0;34m=\u001b[0m\u001b[0mbest_arima_order\u001b[0m\u001b[0;34m[\u001b[0m\u001b[0;36m1\u001b[0m\u001b[0;34m]\u001b[0m\u001b[0;34m)\u001b[0m\u001b[0;34m\u001b[0m\u001b[0;34m\u001b[0m\u001b[0m\n\u001b[0m\u001b[1;32m     43\u001b[0m     \u001b[0mres\u001b[0m \u001b[0;34m=\u001b[0m \u001b[0mgarch_model\u001b[0m\u001b[0;34m.\u001b[0m\u001b[0mfit\u001b[0m\u001b[0;34m(\u001b[0m\u001b[0mdisp\u001b[0m\u001b[0;34m=\u001b[0m\u001b[0;34m'off'\u001b[0m\u001b[0;34m)\u001b[0m\u001b[0;34m\u001b[0m\u001b[0;34m\u001b[0m\u001b[0m\n\u001b[1;32m     44\u001b[0m \u001b[0;34m\u001b[0m\u001b[0m\n",
            "\u001b[0;32m/usr/local/lib/python3.10/dist-packages/arch/univariate/mean.py\u001b[0m in \u001b[0;36march_model\u001b[0;34m(y, x, mean, lags, vol, p, o, q, power, dist, hold_back, rescale)\u001b[0m\n\u001b[1;32m   1998\u001b[0m     \u001b[0;32melif\u001b[0m \u001b[0mvol_model\u001b[0m \u001b[0;34m==\u001b[0m \u001b[0;34m\"garch\"\u001b[0m\u001b[0;34m:\u001b[0m\u001b[0;34m\u001b[0m\u001b[0;34m\u001b[0m\u001b[0m\n\u001b[1;32m   1999\u001b[0m         \u001b[0;32massert\u001b[0m \u001b[0misinstance\u001b[0m\u001b[0;34m(\u001b[0m\u001b[0mp\u001b[0m\u001b[0;34m,\u001b[0m \u001b[0mint\u001b[0m\u001b[0;34m)\u001b[0m\u001b[0;34m\u001b[0m\u001b[0;34m\u001b[0m\u001b[0m\n\u001b[0;32m-> 2000\u001b[0;31m         \u001b[0mv\u001b[0m \u001b[0;34m=\u001b[0m \u001b[0mGARCH\u001b[0m\u001b[0;34m(\u001b[0m\u001b[0mp\u001b[0m\u001b[0;34m=\u001b[0m\u001b[0mp\u001b[0m\u001b[0;34m,\u001b[0m \u001b[0mo\u001b[0m\u001b[0;34m=\u001b[0m\u001b[0mo\u001b[0m\u001b[0;34m,\u001b[0m \u001b[0mq\u001b[0m\u001b[0;34m=\u001b[0m\u001b[0mq\u001b[0m\u001b[0;34m,\u001b[0m \u001b[0mpower\u001b[0m\u001b[0;34m=\u001b[0m\u001b[0mpower\u001b[0m\u001b[0;34m)\u001b[0m\u001b[0;34m\u001b[0m\u001b[0;34m\u001b[0m\u001b[0m\n\u001b[0m\u001b[1;32m   2001\u001b[0m     \u001b[0;32melif\u001b[0m \u001b[0mvol_model\u001b[0m \u001b[0;34m==\u001b[0m \u001b[0;34m\"egarch\"\u001b[0m\u001b[0;34m:\u001b[0m\u001b[0;34m\u001b[0m\u001b[0;34m\u001b[0m\u001b[0m\n\u001b[1;32m   2002\u001b[0m         \u001b[0;32massert\u001b[0m \u001b[0misinstance\u001b[0m\u001b[0;34m(\u001b[0m\u001b[0mp\u001b[0m\u001b[0;34m,\u001b[0m \u001b[0mint\u001b[0m\u001b[0;34m)\u001b[0m\u001b[0;34m\u001b[0m\u001b[0;34m\u001b[0m\u001b[0m\n",
            "\u001b[0;32m/usr/local/lib/python3.10/dist-packages/arch/univariate/volatility.py\u001b[0m in \u001b[0;36m__init__\u001b[0;34m(self, p, o, q, power)\u001b[0m\n\u001b[1;32m   1006\u001b[0m             \u001b[0;32mraise\u001b[0m \u001b[0mValueError\u001b[0m\u001b[0;34m(\u001b[0m\u001b[0;34m\"All lags lengths must be non-negative\"\u001b[0m\u001b[0;34m)\u001b[0m\u001b[0;34m\u001b[0m\u001b[0;34m\u001b[0m\u001b[0m\n\u001b[1;32m   1007\u001b[0m         \u001b[0;32mif\u001b[0m \u001b[0mp\u001b[0m \u001b[0;34m==\u001b[0m \u001b[0;36m0\u001b[0m \u001b[0;32mand\u001b[0m \u001b[0mo\u001b[0m \u001b[0;34m==\u001b[0m \u001b[0;36m0\u001b[0m\u001b[0;34m:\u001b[0m\u001b[0;34m\u001b[0m\u001b[0;34m\u001b[0m\u001b[0m\n\u001b[0;32m-> 1008\u001b[0;31m             \u001b[0;32mraise\u001b[0m \u001b[0mValueError\u001b[0m\u001b[0;34m(\u001b[0m\u001b[0;34m\"One of p or o must be strictly positive\"\u001b[0m\u001b[0;34m)\u001b[0m\u001b[0;34m\u001b[0m\u001b[0;34m\u001b[0m\u001b[0m\n\u001b[0m\u001b[1;32m   1009\u001b[0m         \u001b[0;32mif\u001b[0m \u001b[0mpower\u001b[0m \u001b[0;34m<=\u001b[0m \u001b[0;36m0.0\u001b[0m\u001b[0;34m:\u001b[0m\u001b[0;34m\u001b[0m\u001b[0;34m\u001b[0m\u001b[0m\n\u001b[1;32m   1010\u001b[0m             raise ValueError(\n",
            "\u001b[0;31mValueError\u001b[0m: One of p or o must be strictly positive"
          ]
        }
      ]
    },
    {
      "cell_type": "code",
      "source": [
        "#Asks\n",
        "\n",
        "#Fix PL code based on new situation - Pranav\n",
        "\n",
        "#Bring in time series code from DFAMM repo, train and generate 6 step ahead forecasts (at every hourly time period t) 63 * 6, 63 time periods we're using and at each time period\n",
        "#we forecast 6 steps ahead for spread, price, and volume\n",
        "\n",
        "#Calculate expected predicted loss at each time period based on the 6 steps ahead forecast data\n",
        "\n",
        "#At each point Sum forecasted volume for the next 6 periods together, call this forecasted_total_volume, save dynamic_fee_percent = aggregate_forecasted_PL /  forecasted_total_volume\n",
        "\n",
        "#Realized_fee_profit = prev period \"actual\" volume multiplied by prev period fee_percent, IFF the current price is within the range of LP position in the last period\n",
        "\n",
        "#Chart fee_percent and realized_fee_profit\n",
        "\n"
      ],
      "metadata": {
        "id": "JwUhr3gosBcx"
      },
      "id": "JwUhr3gosBcx",
      "execution_count": 146,
      "outputs": []
    },
    {
      "cell_type": "code",
      "source": [],
      "metadata": {
        "id": "JKVrgapEuCI5"
      },
      "id": "JKVrgapEuCI5",
      "execution_count": null,
      "outputs": []
    }
  ],
  "metadata": {
    "kernelspec": {
      "display_name": "Python 3 (ipykernel)",
      "language": "python",
      "name": "python3"
    },
    "language_info": {
      "codemirror_mode": {
        "name": "ipython",
        "version": 3
      },
      "file_extension": ".py",
      "mimetype": "text/x-python",
      "name": "python",
      "nbconvert_exporter": "python",
      "pygments_lexer": "ipython3",
      "version": "3.11.4"
    },
    "colab": {
      "provenance": []
    }
  },
  "nbformat": 4,
  "nbformat_minor": 5
}